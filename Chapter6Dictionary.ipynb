{
 "cells": [
  {
   "cell_type": "markdown",
   "metadata": {},
   "source": [
    "## A Simple Dictionary"
   ]
  },
  {
   "cell_type": "code",
   "execution_count": 522,
   "metadata": {},
   "outputs": [
    {
     "name": "stdout",
     "output_type": "stream",
     "text": [
      "green\n",
      "5\n"
     ]
    }
   ],
   "source": [
    "alien_0 = {'color': 'green', 'points': '5'}\n",
    "\n",
    "print(alien_0['color'])\n",
    "print(alien_0['points'])"
   ]
  },
  {
   "cell_type": "markdown",
   "metadata": {},
   "source": [
    "### Working with Dictionaries\n",
    "A ***dictionary*** in Python is a collection of ***key-value pairs***. Each ***key*** is connected to a value, and we use the key to connect the value in the key."
   ]
  },
  {
   "cell_type": "code",
   "execution_count": 523,
   "metadata": {},
   "outputs": [
    {
     "data": {
      "text/plain": [
       "'green'"
      ]
     },
     "execution_count": 523,
     "metadata": {},
     "output_type": "execute_result"
    }
   ],
   "source": [
    "alien_0 = {'color': 'green', 'points': 5}\n",
    "alien_0['color']"
   ]
  },
  {
   "cell_type": "markdown",
   "metadata": {},
   "source": [
    "### Accessing Values in a Dictionary"
   ]
  },
  {
   "cell_type": "code",
   "execution_count": 524,
   "metadata": {},
   "outputs": [
    {
     "name": "stdout",
     "output_type": "stream",
     "text": [
      "green\n",
      "You've just earned 5 points.\n"
     ]
    }
   ],
   "source": [
    "alien_0 = {'color': 'green', 'points': 5}\n",
    "print(alien_0['color'])\n",
    "\n",
    "new_point = alien_0['points']\n",
    "print(f\"You've just earned {new_point} points.\")"
   ]
  },
  {
   "cell_type": "markdown",
   "metadata": {},
   "source": [
    "### Adding new Key-Value Pairs"
   ]
  },
  {
   "cell_type": "code",
   "execution_count": 525,
   "metadata": {},
   "outputs": [
    {
     "name": "stdout",
     "output_type": "stream",
     "text": [
      "{'color': 'green', 'points': 5}\n",
      "{'color': 'green', 'points': 5, 'x position': 0, 'y position': 5}\n",
      "{'x position': 5, 'y position': 10, 'points': 10}\n"
     ]
    }
   ],
   "source": [
    "alien_0 = {'color': 'green', 'points': 5}\n",
    "print(alien_0)\n",
    "\n",
    "alien_0['x position'] = 0\n",
    "alien_0['y position'] = 5\n",
    "print(alien_0)\n",
    "\n",
    "alien_1 = {} #Create an empty dictionary\n",
    "alien_1['x position'] = 5\n",
    "alien_1['y position'] = 10\n",
    "alien_1['points'] = 10\n",
    "print(alien_1)"
   ]
  },
  {
   "cell_type": "markdown",
   "metadata": {},
   "source": [
    "### Modifying Values in Dictionary"
   ]
  },
  {
   "cell_type": "code",
   "execution_count": 526,
   "metadata": {},
   "outputs": [
    {
     "name": "stdout",
     "output_type": "stream",
     "text": [
      "The color of alien 0 is green\n",
      "The color of alien 0, now, is yellow\n"
     ]
    }
   ],
   "source": [
    "alien_0 = {'color': 'green', 'points': 5}\n",
    "print(f\"The color of alien 0 is {alien_0['color']}\")\n",
    "alien_0['color'] = 'yellow'\n",
    "print(f\"The color of alien 0, now, is {alien_0['color']}\")"
   ]
  },
  {
   "cell_type": "code",
   "execution_count": 527,
   "metadata": {},
   "outputs": [
    {
     "name": "stdout",
     "output_type": "stream",
     "text": [
      "Original position is 0\n",
      "The new position is 2\n"
     ]
    }
   ],
   "source": [
    "alien_0 = {'x position': 0, 'y position': 25, 'speed': 'medium'}\n",
    "print(f\"Original position is {alien_0['x position']}\")\n",
    "if alien_0['speed'] == 'low':\n",
    "    x_incrediment = 1\n",
    "elif alien_0['speed'] == 'medium':\n",
    "    x_incrediment = 2\n",
    "else:\n",
    "    x_incrediment = 3\n",
    "\n",
    "alien_0['x position'] = alien_0['x position'] + x_incrediment\n",
    "print(f\"The new position is {alien_0['x position']}\")\n",
    "\n",
    "alien_0['speed'] = 'fast'"
   ]
  },
  {
   "cell_type": "markdown",
   "metadata": {},
   "source": [
    "### Removing the Key-value Pairs"
   ]
  },
  {
   "cell_type": "code",
   "execution_count": 528,
   "metadata": {},
   "outputs": [
    {
     "name": "stdout",
     "output_type": "stream",
     "text": [
      "{'color': 'green', 'points': 5}\n",
      "{'color': 'green'}\n"
     ]
    }
   ],
   "source": [
    "alien_0 = {'color': 'green', 'points': 5}\n",
    "print(alien_0)\n",
    "\n",
    "del alien_0['points']\n",
    "print(alien_0)"
   ]
  },
  {
   "cell_type": "markdown",
   "metadata": {},
   "source": [
    "### A Dictionary of Similar Objects"
   ]
  },
  {
   "cell_type": "code",
   "execution_count": 529,
   "metadata": {},
   "outputs": [
    {
     "name": "stdout",
     "output_type": "stream",
     "text": [
      "R\n",
      "The favourite language of VAT is Python\n"
     ]
    }
   ],
   "source": [
    "favorite_language = {\n",
    "    'VAT': 'Python', \n",
    "    'Gia Quy': 'C++', \n",
    "    '10%': 'R', \n",
    "    'Opla': 'Julia'}\n",
    "print(favorite_language['10%'])\n",
    "language = favorite_language['VAT']\n",
    "print(f\"The favourite language of VAT is {language.title()}\")\n"
   ]
  },
  {
   "cell_type": "markdown",
   "metadata": {},
   "source": [
    "### Using `get()` to Access values"
   ]
  },
  {
   "cell_type": "code",
   "execution_count": 530,
   "metadata": {},
   "outputs": [
    {
     "name": "stdout",
     "output_type": "stream",
     "text": [
      "No points value assigned\n"
     ]
    }
   ],
   "source": [
    "alien_0 = {'color': 'green', 'speed': 'slow'}\n",
    "point_value = alien_0.get('points', 'No points value assigned')\n",
    "print(point_value)"
   ]
  },
  {
   "cell_type": "markdown",
   "metadata": {},
   "source": [
    "`get()` method set a default value that will be returned if the requested key doesn't exit."
   ]
  },
  {
   "cell_type": "markdown",
   "metadata": {},
   "source": [
    "## Exercise\n",
    "***6.1 Person***"
   ]
  },
  {
   "cell_type": "code",
   "execution_count": 531,
   "metadata": {},
   "outputs": [
    {
     "name": "stdout",
     "output_type": "stream",
     "text": [
      "Thu\n",
      "Vo\n",
      "19\n",
      "Ho Chi Minh\n"
     ]
    }
   ],
   "source": [
    "nguoilaoi = {'first_name': 'Thu', 'last_name': 'Vo', 'age': '19', 'city': 'Ho Chi Minh'}\n",
    "print(nguoilaoi['first_name'])\n",
    "print(nguoilaoi['last_name'])\n",
    "print(nguoilaoi['age'])\n",
    "print(nguoilaoi['city'])"
   ]
  },
  {
   "cell_type": "markdown",
   "metadata": {},
   "source": [
    "***6.2 Favorite numbers***"
   ]
  },
  {
   "cell_type": "code",
   "execution_count": 532,
   "metadata": {},
   "outputs": [
    {
     "name": "stdout",
     "output_type": "stream",
     "text": [
      "The favorite numbers of VAT is 6\n",
      "The favorite numbers of QG is 10\n",
      "The favorite numbers of 10% is 16\n",
      "The favorite numbers of Opla is 9\n"
     ]
    }
   ],
   "source": [
    "numbers = {'VAT': 6, 'QG': 10, '10%': 16, 'Opla': 9}\n",
    "print(f\"The favorite numbers of VAT is {numbers['VAT']}\")\n",
    "print(f\"The favorite numbers of QG is {numbers['QG']}\")\n",
    "print(f\"The favorite numbers of 10% is {numbers['10%']}\")\n",
    "print(f\"The favorite numbers of Opla is {numbers['Opla']}\")"
   ]
  },
  {
   "cell_type": "markdown",
   "metadata": {},
   "source": [
    "***6.3 Glossary***"
   ]
  },
  {
   "cell_type": "code",
   "execution_count": 533,
   "metadata": {},
   "outputs": [
    {
     "name": "stdout",
     "output_type": "stream",
     "text": [
      "delete\n",
      "upper\n",
      "lower\n"
     ]
    }
   ],
   "source": [
    "glossary = {'del':'delete', 'up': 'upper', 'low': 'lower'}\n",
    "print(f\"{glossary['del']}\")\n",
    "print(f\"{glossary['up']}\")\n",
    "print(f\"{glossary['low']}\")"
   ]
  },
  {
   "cell_type": "markdown",
   "metadata": {},
   "source": [
    "## Looping Through Dictionary \n",
    "`key` and `value` in `variable.items()` <br>\n",
    "or<br>\n",
    "k,v in `variable.items()`"
   ]
  },
  {
   "cell_type": "code",
   "execution_count": 534,
   "metadata": {},
   "outputs": [
    {
     "name": "stdout",
     "output_type": "stream",
     "text": [
      "\n",
      "Key: username\n",
      "\n",
      "Value: efemi\n",
      "\n",
      "Key: first\n",
      "\n",
      "Value: enrico\n",
      "\n",
      "Key: last\n",
      "\n",
      "Value: fermi\n"
     ]
    }
   ],
   "source": [
    "user_0 = {\n",
    "'username': 'efemi',\n",
    "'first':'enrico',\n",
    "'last': 'fermi'}\n",
    "for key,value in user_0.items():\n",
    "    print(f\"\\nKey: {key}\")     \n",
    "    print(f\"\\nValue: {value}\")"
   ]
  },
  {
   "cell_type": "code",
   "execution_count": 535,
   "metadata": {},
   "outputs": [
    {
     "name": "stdout",
     "output_type": "stream",
     "text": [
      "\n",
      "Key: last\n",
      "\n",
      "Value: fermi\n",
      "\n",
      "Key: last\n",
      "\n",
      "Value: fermi\n",
      "\n",
      "Key: last\n",
      "\n",
      "Value: fermi\n"
     ]
    }
   ],
   "source": [
    "user_0 = {\n",
    "'username': 'efemi',\n",
    "'first':'enrico',\n",
    "'last': 'fermi'}\n",
    "for k,v in user_0.items():\n",
    "    print(f\"\\nKey: {key}\")     \n",
    "    print(f\"\\nValue: {value}\")"
   ]
  },
  {
   "cell_type": "code",
   "execution_count": 536,
   "metadata": {},
   "outputs": [
    {
     "name": "stdout",
     "output_type": "stream",
     "text": [
      "The Vat's favorite language is Python\n",
      "The Gia Quy's favorite language is C++\n",
      "The 10%'s favorite language is R\n",
      "The Opla's favorite language is Julia\n",
      "\n",
      "\n",
      "Vat's favorite language is Python\n",
      "Gia Quy's favorite language is C++\n",
      "10%'s favorite language is R\n",
      "Opla's favorite language is Julia\n"
     ]
    }
   ],
   "source": [
    "favorite_language = {\n",
    "    'VAT': 'Python', \n",
    "    'Gia Quy': 'C++', \n",
    "    '10%': 'R', \n",
    "    'Opla': 'Julia'}\n",
    "for name, language in favorite_language.items():\n",
    "    print(f\"The {name.title()}'s favorite language is {language.title()}\")\n",
    "    #or\n",
    "print(\"\\n\")    \n",
    "for a, b in favorite_language.items():\n",
    "    print(f\"{a.title()}'s favorite language is {b.title()}\")"
   ]
  },
  {
   "cell_type": "markdown",
   "metadata": {},
   "source": [
    "We can set any name for key and value for easier reminder."
   ]
  },
  {
   "cell_type": "markdown",
   "metadata": {},
   "source": [
    "### Looping through the Key in dictionary\n",
    "a in `variable.keys()`"
   ]
  },
  {
   "cell_type": "code",
   "execution_count": 537,
   "metadata": {},
   "outputs": [
    {
     "name": "stdout",
     "output_type": "stream",
     "text": [
      "Vat\n",
      "Gia Quy\n",
      "10%\n",
      "Opla\n"
     ]
    }
   ],
   "source": [
    "favorite_language = {\n",
    "    'VAT': 'Python', \n",
    "    'Gia Quy': 'C++', \n",
    "    '10%': 'R', \n",
    "    'Opla': 'Julia'}\n",
    "for a in favorite_language.keys():\n",
    "    print(f\"{a.title()}\")"
   ]
  },
  {
   "cell_type": "markdown",
   "metadata": {},
   "source": [
    "`for a in favorite_language.keys() == for a in favorite_language:`"
   ]
  },
  {
   "cell_type": "code",
   "execution_count": 538,
   "metadata": {},
   "outputs": [
    {
     "name": "stdout",
     "output_type": "stream",
     "text": [
      "Vat\n",
      "Gia Quy\n",
      "10%\n",
      "Opla\n"
     ]
    }
   ],
   "source": [
    "favorite_language = {\n",
    "    'VAT': 'Python', \n",
    "    'Gia Quy': 'C++', \n",
    "    '10%': 'R', \n",
    "    'Opla': 'Julia'}\n",
    "for a in favorite_language:\n",
    "    print(f\"{a.title()}\")"
   ]
  },
  {
   "cell_type": "code",
   "execution_count": 539,
   "metadata": {},
   "outputs": [
    {
     "name": "stdout",
     "output_type": "stream",
     "text": [
      "Hello Vat\n",
      "I see you love Python\n",
      "Hello Gia Quy\n",
      "I see you love C++\n",
      "Hello 10%\n",
      "Hello Opla\n"
     ]
    }
   ],
   "source": [
    "favorite_language = {\n",
    "    'VAT': 'Python', \n",
    "    'Gia Quy': 'C++', \n",
    "    '10%': 'R', \n",
    "    'Opla': 'Julia'}\n",
    "friends = ['VAT', 'Gia Quy']\n",
    "for a, b in favorite_language.items():\n",
    "    print(f\"Hello {a.title()}\")\n",
    "    if a in friends: #Chú ý dùng hàm in not ==\n",
    "        print(f\"I see you love {b.title()}\")\n",
    "        "
   ]
  },
  {
   "cell_type": "code",
   "execution_count": 540,
   "metadata": {},
   "outputs": [
    {
     "name": "stdout",
     "output_type": "stream",
     "text": [
      "Canh cut please take our poll!\n"
     ]
    }
   ],
   "source": [
    "favorite_language = {\n",
    "    'VAT': 'Python', \n",
    "    'Gia Quy': 'C++', \n",
    "    '10%': 'R', \n",
    "    'Opla': 'Julia'}\n",
    "if 'canhcut' not in favorite_language.keys():\n",
    "    print(\"Canh cut please take our poll!\")"
   ]
  },
  {
   "cell_type": "markdown",
   "metadata": {},
   "source": [
    "### Looping Through a Dictionary’s Keys in a Particular Order"
   ]
  },
  {
   "cell_type": "code",
   "execution_count": 541,
   "metadata": {},
   "outputs": [
    {
     "name": "stdout",
     "output_type": "stream",
     "text": [
      "Thank you 10% for taking the poll.\n",
      "Thank you Gia Quy for taking the poll.\n",
      "Thank you Opla for taking the poll.\n",
      "Thank you Vat for taking the poll.\n"
     ]
    }
   ],
   "source": [
    "favorite_language = {\n",
    "    'VAT': 'Python', \n",
    "    'Gia Quy': 'C++', \n",
    "    '10%': 'R', \n",
    "    'Opla': 'Julia'}\n",
    "for a in sorted(favorite_language.keys()):\n",
    "    print(f\"Thank you {a.title()} for taking the poll.\")"
   ]
  },
  {
   "cell_type": "markdown",
   "metadata": {},
   "source": [
    "### Looping through all the value in the dictionary"
   ]
  },
  {
   "cell_type": "code",
   "execution_count": 542,
   "metadata": {},
   "outputs": [
    {
     "name": "stdout",
     "output_type": "stream",
     "text": [
      "The following languages have been mentioned: \n",
      "Python\n",
      "C++\n",
      "R\n",
      "Julia\n"
     ]
    }
   ],
   "source": [
    "favorite_language = {\n",
    "    'VAT': 'Python', \n",
    "    'Gia Quy': 'C++', \n",
    "    '10%': 'R', \n",
    "    'Opla': 'Julia'}\n",
    "print(\"The following languages have been mentioned: \")\n",
    "for a in favorite_language.values():\n",
    "    print(f\"{a.title()}\")"
   ]
  },
  {
   "cell_type": "markdown",
   "metadata": {},
   "source": [
    "To see each language chosen without repetition, we can use a `set(varibale.values())`. "
   ]
  },
  {
   "cell_type": "code",
   "execution_count": 543,
   "metadata": {},
   "outputs": [
    {
     "name": "stdout",
     "output_type": "stream",
     "text": [
      "Python\n",
      "C++\n",
      "R\n",
      "Julia\n",
      "Python\n",
      "\n",
      "\n",
      "C++\n",
      "R\n",
      "Python\n",
      "Julia\n"
     ]
    }
   ],
   "source": [
    "favorite_language = {\n",
    "    'VAT': 'Python', \n",
    "    'Gia Quy': 'C++', \n",
    "    '10%': 'R', \n",
    "    'Opla': 'Julia',\n",
    "    'Canhcut': 'Python'} #Python duoc lap lai 2 lan\n",
    "for a in favorite_language.values():\n",
    "    print(a.title())\n",
    "#Print kieu nay se bi lap lai\n",
    "print(\"\\n\")\n",
    "for a in set(favorite_language.values()):\n",
    "    print(a.title())\n",
    "\n"
   ]
  },
  {
   "cell_type": "markdown",
   "metadata": {},
   "source": [
    "`>>> `languages = {'python', 'rust' , 'python', 'c'} <br>\n",
    "`>>> `languages <br>\n",
    "`>>> `{'rust', 'c', 'python'}"
   ]
  },
  {
   "cell_type": "markdown",
   "metadata": {},
   "source": [
    "# Exercises\n",
    "***6-5. Glossary 2***\n"
   ]
  },
  {
   "cell_type": "code",
   "execution_count": 544,
   "metadata": {},
   "outputs": [
    {
     "name": "stdout",
     "output_type": "stream",
     "text": [
      "The Hong Rive runs through Hanoi\n",
      "The Cuu Long runs through Ho Chi Minh\n",
      "The Cai River runs through Nha Trang\n"
     ]
    }
   ],
   "source": [
    "river = {'Hong rive': 'HaNoi', \n",
    "         'Cuu Long': 'Ho Chi Minh', \n",
    "         'Cai River': 'Nha Trang'}\n",
    "for a, b in river.items():\n",
    "    print(f\"The {a.title()} runs through {b.title()}\")"
   ]
  },
  {
   "cell_type": "code",
   "execution_count": 545,
   "metadata": {},
   "outputs": [
    {
     "name": "stdout",
     "output_type": "stream",
     "text": [
      "Hong Rive\n",
      "Cuu Long\n",
      "Cai River\n",
      "Hanoi\n",
      "Ho Chi Minh\n",
      "Nha Trang\n"
     ]
    }
   ],
   "source": [
    "for a in river.keys():\n",
    "    print(a.title())\n",
    "for b in river.values():\n",
    "    print(b.title())"
   ]
  },
  {
   "cell_type": "markdown",
   "metadata": {},
   "source": [
    "***6-6 Pooling***"
   ]
  },
  {
   "cell_type": "code",
   "execution_count": 546,
   "metadata": {},
   "outputs": [
    {
     "name": "stdout",
     "output_type": "stream",
     "text": [
      "Hello Quy Gia, please respond the poll.\n",
      "Hello Mamnon, please respond the poll.\n",
      "Thank you Vat for you respondment.\n"
     ]
    }
   ],
   "source": [
    "favorite_language = {\n",
    "    'VAT': 'Python', \n",
    "    'Gia Quy': 'C++', \n",
    "    '10%': 'R', \n",
    "    'Opla': 'Julia',\n",
    "    'Canhcut': 'Python'}\n",
    "names = {'Quy Gia', 'Mamnon', 'VAT'}\n",
    "for a in names:\n",
    "    if (a not in favorite_language.keys()):\n",
    "        print(f\"Hello {a.title()}, please respond the poll.\")\n",
    "    else:\n",
    "        print(f\"Thank you {a.title()} for you respondment.\")\n"
   ]
  },
  {
   "cell_type": "markdown",
   "metadata": {},
   "source": [
    "# Nesting \n",
    "Store multiple dictionary in a list => `nestting()`\n",
    "### A list of DictionaryDictionary"
   ]
  },
  {
   "cell_type": "code",
   "execution_count": 547,
   "metadata": {},
   "outputs": [
    {
     "name": "stdout",
     "output_type": "stream",
     "text": [
      "[{'color': 'green', 'points': 5}, {'color': 'yellow', 'points': 10}, {'color': 'red', 'points': 15}]\n",
      "{'color': 'green', 'points': 5}\n",
      "{'color': 'yellow', 'points': 10}\n",
      "{'color': 'red', 'points': 15}\n",
      "('color', 'green')\n",
      "('points', 5)\n",
      "('color', 'yellow')\n",
      "('points', 10)\n",
      "('color', 'red')\n",
      "('points', 15)\n",
      "green\n",
      "5\n",
      "yellow\n",
      "10\n",
      "red\n",
      "15\n"
     ]
    }
   ],
   "source": [
    "alien_0 = {'color': 'green', 'points': 5}\n",
    "alien_1 = {'color': 'yellow', 'points': 10}\n",
    "alien_2 = {'color': 'red', 'points': 15}\n",
    "aliens = [alien_0, alien_1, alien_2]\n",
    "print(aliens)\n",
    "for a in aliens:\n",
    "    print(a)\n",
    "\n",
    "for a in aliens:\n",
    "    for b in a.items():\n",
    "        print(b)\n",
    "        \n",
    "for a in aliens:\n",
    "    for b in a.values():\n",
    "        print(b)"
   ]
  },
  {
   "cell_type": "code",
   "execution_count": 548,
   "metadata": {},
   "outputs": [
    {
     "name": "stdout",
     "output_type": "stream",
     "text": [
      "[{'color': 'green', 'points': 5, 'speed': 'low'}, {'color': 'green', 'points': 5, 'speed': 'low'}, {'color': 'green', 'points': 5, 'speed': 'low'}, {'color': 'green', 'points': 5, 'speed': 'low'}, {'color': 'green', 'points': 5, 'speed': 'low'}]\n",
      "[{'color': 'green', 'points': 0, 'speed': 'low'}, {'color': 'green', 'points': 1, 'speed': 'low'}, {'color': 'green', 'points': 2, 'speed': 'low'}, {'color': 'green', 'points': 3, 'speed': 'low'}, {'color': 'green', 'points': 4, 'speed': 'low'}]\n"
     ]
    }
   ],
   "source": [
    "aliens = []\n",
    "for a in range(5):\n",
    "    new_alien = {'color': 'green', 'points': 5, 'speed': 'low'}\n",
    "    aliens.append(new_alien)\n",
    "  \n",
    "print(aliens)\n",
    "len(aliens)\n",
    "\n",
    "aliens = []\n",
    "for a in range(5):\n",
    "    new_alien = {'color': 'green', 'points': a, 'speed': 'low'}\n",
    "    aliens.append(new_alien)\n",
    "print(aliens)"
   ]
  },
  {
   "cell_type": "code",
   "execution_count": 549,
   "metadata": {},
   "outputs": [
    {
     "name": "stdout",
     "output_type": "stream",
     "text": [
      "{'color': 'green', 'points': 5, 'speed': 'low'}\n",
      "{'color': 'green', 'points': 5, 'speed': 'low'}\n",
      "{'color': 'green', 'points': 5, 'speed': 'low'}\n",
      "{'color': 'green', 'points': 5, 'speed': 'low'}\n",
      "{'color': 'green', 'points': 5, 'speed': 'low'}\n",
      "...\n",
      "The total number of aliens is: 30\n"
     ]
    }
   ],
   "source": [
    "aliens = []\n",
    "for a in range(30):\n",
    "    new_alien = {'color': 'green', 'points': 5, 'speed': 'low'}\n",
    "    aliens.append(new_alien)\n",
    "  \n",
    "for a in aliens[:5] :\n",
    "    print(a)\n",
    "print(\"...\")\n",
    "print(f\"The total number of aliens is: {len(aliens)}\")"
   ]
  },
  {
   "cell_type": "code",
   "execution_count": 550,
   "metadata": {},
   "outputs": [
    {
     "name": "stdout",
     "output_type": "stream",
     "text": [
      "{'color': 'yellow', 'points': 10, 'speed': 'medium'}\n",
      "{'color': 'yellow', 'points': 10, 'speed': 'medium'}\n",
      "{'color': 'yellow', 'points': 10, 'speed': 'medium'}\n",
      "{'color': 'green', 'points': 5, 'speed': 'slow'}\n",
      "{'color': 'green', 'points': 5, 'speed': 'slow'}\n",
      "...\n",
      "{'color': 'yellow', 'points': 10, 'speed': 'medium'}\n",
      "{'color': 'yellow', 'points': 10, 'speed': 'medium'}\n",
      "{'color': 'red', 'points': 15, 'speed': 'fast'}\n",
      "{'color': 'yellow', 'points': 10, 'speed': 'medium'}\n",
      "{'color': 'yellow', 'points': 10, 'speed': 'medium'}\n",
      "{'color': 'yellow', 'points': 10, 'speed': 'medium'}\n",
      "{'color': 'green', 'points': 5, 'speed': 'slow'}\n",
      "...\n"
     ]
    }
   ],
   "source": [
    "aliens= []\n",
    "\n",
    "for a in range(30):\n",
    "    new_alien = {'color': 'green', 'points': 5, 'speed': 'slow'}\n",
    "    aliens.append(new_alien)\n",
    "\n",
    "for a in aliens[:3]:\n",
    "    if a['color'] == 'green':\n",
    "        a['color'] = 'yellow'\n",
    "        a['points'] = 10\n",
    "        a['speed'] = 'medium'\n",
    "\n",
    "for a in aliens[:5]:\n",
    "    print(a)\n",
    "print(\"...\")\n",
    "\n",
    "for a in aliens[2:6]:\n",
    "    if a['color'] == 'green':\n",
    "        a['color'] = 'yellow'\n",
    "        a['points'] = 10\n",
    "        a['speed'] = 'medium'\n",
    "    elif a['color'] == 'yellow':\n",
    "        a['color'] = 'red'\n",
    "        a['points'] = 15\n",
    "        a['speed'] = 'fast'\n",
    "\n",
    "for a in aliens[:7]:\n",
    "    print(a)\n",
    "print(\"...\")"
   ]
  },
  {
   "cell_type": "markdown",
   "metadata": {},
   "source": [
    "## A List in Dictionary"
   ]
  },
  {
   "cell_type": "code",
   "execution_count": 551,
   "metadata": {},
   "outputs": [
    {
     "name": "stdout",
     "output_type": "stream",
     "text": [
      "You ordered a thick-crust pizzawith the following toppings: \n",
      "mushrooms\n",
      "extra cheese\n"
     ]
    }
   ],
   "source": [
    "pizza = {'crust': 'thick', \n",
    "         'toppings': ['mushrooms', 'extra cheese']}\n",
    "print(f\"You ordered a {pizza['crust']}-crust pizza\" \"with the following toppings: \")\n",
    "for a in pizza['toppings']:\n",
    "    print(a)"
   ]
  },
  {
   "cell_type": "code",
   "execution_count": 552,
   "metadata": {},
   "outputs": [
    {
     "name": "stdout",
     "output_type": "stream",
     "text": [
      "Vat's favorite language is:\n",
      "['Python', 'Rust']\n",
      "Gia Quy's favorite language is:\n",
      "['C++', 'Python']\n",
      "10%'s favorite language is:\n",
      "R\n",
      "Opla's favorite language is:\n",
      "Julia\n",
      "Canhcut's favorite language is:\n",
      "Python\n"
     ]
    }
   ],
   "source": [
    "favorite_language = {\n",
    "    'VAT': ['Python', 'Rust'],\n",
    "    'Gia Quy': ['C++', 'Python'],\n",
    "    '10%': 'R', \n",
    "    'Opla': 'Julia',\n",
    "    'Canhcut': 'Python'}\n",
    "for a,b in favorite_language.items():\n",
    "    print(f\"{a.title()}'s favorite language is:\")\n",
    "    print(b) #Nếu print(b) kiểu nãy sẽ bị hiện dạng list"
   ]
  },
  {
   "cell_type": "code",
   "execution_count": 553,
   "metadata": {},
   "outputs": [
    {
     "name": "stdout",
     "output_type": "stream",
     "text": [
      "Vat's favorite language is:\n",
      "Python\n",
      "Rust\n",
      "Gia Quy's favorite language is:\n",
      "C++\n",
      "Python\n",
      "10%'s favorite language is:\n",
      "R\n",
      "Opla's favorite language is:\n",
      "Julia\n",
      "Canhcut's favorite language is:\n",
      "Python\n"
     ]
    }
   ],
   "source": [
    "favorite_language = {\n",
    "    'VAT': ['Python', 'Rust'],\n",
    "    'Gia Quy': ['C++', 'Python'],\n",
    "    '10%': ['R'], \n",
    "    'Opla': ['Julia'],\n",
    "    'Canhcut': ['Python']}\n",
    "for a,b in favorite_language.items():\n",
    "    print(f\"{a.title()}'s favorite language is:\")\n",
    "    for a in b:\n",
    "        print(a)"
   ]
  },
  {
   "cell_type": "markdown",
   "metadata": {},
   "source": [
    "Chú ý: Các values phải được đồng bộ dạng, all list or character."
   ]
  },
  {
   "cell_type": "markdown",
   "metadata": {},
   "source": [
    "## A Dictionary in a Dictionary "
   ]
  },
  {
   "cell_type": "code",
   "execution_count": 554,
   "metadata": {},
   "outputs": [
    {
     "name": "stdout",
     "output_type": "stream",
     "text": [
      "Username: Aeinstein\n",
      " Full name: Albert Eisteins\n",
      " Location: Princeton\n",
      "Username: Mcurie\n",
      " Full name: Marie Curie\n",
      " Location: Paris\n"
     ]
    }
   ],
   "source": [
    "user = {'aeinstein': {'first': 'albert', 'last': 'eisteins', 'location': 'princeton'},\n",
    "        'mcurie': {'first': 'marie', 'last': 'curie', 'location': 'Paris'}             \n",
    "        }\n",
    "\n",
    "for a,b in user.items():\n",
    "    print(f\"Username: {a.title()}\")\n",
    "    fullname = f\"{b['first']} {b['last']}\"\n",
    "    location = b['location']\n",
    "\n",
    "    print(f\" Full name: {fullname.title()}\")\n",
    "    print(f\" Location: {location.title()}\")\n",
    "\n"
   ]
  },
  {
   "cell_type": "markdown",
   "metadata": {},
   "source": [
    "# Exercises\n",
    "***6.11 Cities***"
   ]
  },
  {
   "cell_type": "code",
   "execution_count": 555,
   "metadata": {},
   "outputs": [
    {
     "name": "stdout",
     "output_type": "stream",
     "text": [
      "Paris\n",
      "France\n",
      "Effiel\n",
      "HaNoi\n",
      "Vietnam\n",
      "HCM Museum\n"
     ]
    }
   ],
   "source": [
    "cities = {'Paris': {'Country': 'France', 'Unique': 'Effiel'},\n",
    "          'HaNoi': {'Country': 'Vietnam', 'Unique': 'HCM Museum'}}\n",
    "\n",
    "for a, b in cities.items():\n",
    "    print(a)\n",
    "    for a in b.values():\n",
    "        print(a)"
   ]
  },
  {
   "cell_type": "markdown",
   "metadata": {},
   "source": [
    "`Or`"
   ]
  },
  {
   "cell_type": "code",
   "execution_count": 557,
   "metadata": {},
   "outputs": [
    {
     "name": "stdout",
     "output_type": "stream",
     "text": [
      "Paris\n",
      "France\n",
      "Effiel\n",
      "\n",
      "\n",
      "HaNoi\n",
      "Vietnam\n",
      "HCM Museum\n",
      "\n",
      "\n"
     ]
    }
   ],
   "source": [
    "cities = {'Paris': {'Country': 'France', 'Unique': 'Effiel'},\n",
    "          'HaNoi': {'Country': 'Vietnam', 'Unique': 'HCM Museum'}}\n",
    "\n",
    "for a, b in cities.items():\n",
    "    print(a)\n",
    "    print(f\"{b['Country']}\")\n",
    "    print(f\"{b['Unique']}\")\n",
    "    print(\"\\n\")"
   ]
  }
 ],
 "metadata": {
  "kernelspec": {
   "display_name": "Python 3",
   "language": "python",
   "name": "python3"
  },
  "language_info": {
   "codemirror_mode": {
    "name": "ipython",
    "version": 3
   },
   "file_extension": ".py",
   "mimetype": "text/x-python",
   "name": "python",
   "nbconvert_exporter": "python",
   "pygments_lexer": "ipython3",
   "version": "3.13.0"
  }
 },
 "nbformat": 4,
 "nbformat_minor": 2
}
