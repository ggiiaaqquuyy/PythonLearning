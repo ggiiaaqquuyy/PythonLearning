{
 "cells": [
  {
   "cell_type": "markdown",
   "metadata": {},
   "source": [
    "# Working with Lists\n",
    "\n",
    "## Looping through an Entire a Lists\n",
    "> `loop()`"
   ]
  },
  {
   "cell_type": "code",
   "execution_count": 1,
   "metadata": {},
   "outputs": [
    {
     "name": "stdout",
     "output_type": "stream",
     "text": [
      "alice\n",
      "david\n",
      "carolina\n"
     ]
    }
   ],
   "source": [
    "magicians = ['alice', 'david', 'carolina']\n",
    "for a in magicians: \n",
    "    print(a)"
   ]
  },
  {
   "cell_type": "markdown",
   "metadata": {},
   "source": [
    "We assigned all the element in variables to 'a' and print them."
   ]
  },
  {
   "cell_type": "markdown",
   "metadata": {},
   "source": [
    "## Doing more work within a Loop"
   ]
  },
  {
   "cell_type": "markdown",
   "metadata": {},
   "source": [
    "We can accces each element in the lists by:"
   ]
  },
  {
   "cell_type": "code",
   "execution_count": 52,
   "metadata": {},
   "outputs": [
    {
     "name": "stdout",
     "output_type": "stream",
     "text": [
      "Alice, that was a great trick!\n",
      "David, that was a great trick!\n",
      "Carolina, that was a great trick!\n"
     ]
    }
   ],
   "source": [
    "magicians = ['alice', 'david', 'carolina']\n",
    "for a in magicians:\n",
    "    print(f\"{a.title()}, that was a great trick!\") #Note that Python chú ý hàm lồng hàm trong các câu điều kiện"
   ]
  },
  {
   "cell_type": "code",
   "execution_count": 53,
   "metadata": {},
   "outputs": [
    {
     "name": "stdout",
     "output_type": "stream",
     "text": [
      "Alice, that was a great trick!\n",
      "I can't wait to see your next trick, Alice.\n",
      "\n",
      "David, that was a great trick!\n",
      "I can't wait to see your next trick, David.\n",
      "\n",
      "Carolina, that was a great trick!\n",
      "I can't wait to see your next trick, Carolina.\n",
      "\n"
     ]
    }
   ],
   "source": [
    "magicians = ['alice', 'david', 'carolina']\n",
    "for a in magicians:\n",
    "    print(f\"{a.title()}, that was a great trick!\") \n",
    "    print(f\"I can't wait to see your next trick, {a.title()}.\\n\")"
   ]
  },
  {
   "cell_type": "markdown",
   "metadata": {},
   "source": [
    "We can do anything we want in the `for` loop"
   ]
  },
  {
   "cell_type": "markdown",
   "metadata": {},
   "source": [
    "## Doing something after a for Loop"
   ]
  },
  {
   "cell_type": "code",
   "execution_count": 54,
   "metadata": {},
   "outputs": [
    {
     "name": "stdout",
     "output_type": "stream",
     "text": [
      "Alice, that was a great trick!\n",
      "I can't wait to see your next trick, Alice.\n",
      "\n",
      "David, that was a great trick!\n",
      "I can't wait to see your next trick, David.\n",
      "\n",
      "Carolina, that was a great trick!\n",
      "I can't wait to see your next trick, Carolina.\n",
      "\n",
      "Thank you for everyones for coming here today.\n"
     ]
    }
   ],
   "source": [
    "magicians = ['alice', 'david', 'carolina']\n",
    "for a in magicians:\n",
    "    print(f\"{a.title()}, that was a great trick!\") \n",
    "    print(f\"I can't wait to see your next trick, {a.title()}.\\n\")\n",
    "print(\"Thank you for everyones for coming here today.\")"
   ]
  },
  {
   "cell_type": "markdown",
   "metadata": {},
   "source": [
    "## Avoiding Indentations Error \n",
    " \n",
    "<span style=\"color:red; font-weight:bold;\">⚠ Note:</span> Python use indentations to determine how a line, or a group of line. \n",
    "\n",
    "### Forgetting to Indent"
   ]
  },
  {
   "cell_type": "code",
   "execution_count": 55,
   "metadata": {},
   "outputs": [
    {
     "ename": "IndentationError",
     "evalue": "expected an indented block after 'for' statement on line 2 (2510761304.py, line 3)",
     "output_type": "error",
     "traceback": [
      "\u001b[1;36m  Cell \u001b[1;32mIn[55], line 3\u001b[1;36m\u001b[0m\n\u001b[1;33m    print(magician)\u001b[0m\n\u001b[1;37m    ^\u001b[0m\n\u001b[1;31mIndentationError\u001b[0m\u001b[1;31m:\u001b[0m expected an indented block after 'for' statement on line 2\n"
     ]
    }
   ],
   "source": [
    "magicians = ['alice', 'david', 'carolina']\n",
    "for magician in magicians:\n",
    "print(magician)"
   ]
  },
  {
   "cell_type": "markdown",
   "metadata": {},
   "source": [
    "### Forgetting to Indent Additional Lines"
   ]
  },
  {
   "cell_type": "code",
   "execution_count": null,
   "metadata": {},
   "outputs": [
    {
     "name": "stdout",
     "output_type": "stream",
     "text": [
      "Alice, that was a great trick!\n",
      "David, that was a great trick!\n",
      "Carolina, that was a great trick!\n",
      "I can't wait to see your next trick, Carolina.\n",
      "\n"
     ]
    }
   ],
   "source": [
    "magicians = ['alice', 'david', 'carolina']\n",
    "for magician in magicians:\n",
    "    print(f\"{magician.title()}, that was a great trick!\")\n",
    "print(f\"I can't wait to see your next trick, {magician.title()}.\\n\") #Chỉ in ra giá trị cuối đã lưu"
   ]
  },
  {
   "cell_type": "markdown",
   "metadata": {},
   "source": [
    "### Intennding Unnecessarily"
   ]
  },
  {
   "cell_type": "code",
   "execution_count": null,
   "metadata": {},
   "outputs": [
    {
     "ename": "IndentationError",
     "evalue": "unexpected indent (2495908521.py, line 2)",
     "output_type": "error",
     "traceback": [
      "\u001b[1;36m  Cell \u001b[1;32mIn[48], line 2\u001b[1;36m\u001b[0m\n\u001b[1;33m    print(message)\u001b[0m\n\u001b[1;37m    ^\u001b[0m\n\u001b[1;31mIndentationError\u001b[0m\u001b[1;31m:\u001b[0m unexpected indent\n"
     ]
    }
   ],
   "source": [
    "message = \"Hello Python world!\"\n",
    "    print(message)"
   ]
  },
  {
   "cell_type": "markdown",
   "metadata": {},
   "source": [
    "### Indenting Unnecessarily After the Loop\n",
    "\n",
    "### Forgetting the Colon `:`"
   ]
  },
  {
   "cell_type": "code",
   "execution_count": null,
   "metadata": {},
   "outputs": [
    {
     "ename": "SyntaxError",
     "evalue": "invalid syntax (1539383683.py, line 2)",
     "output_type": "error",
     "traceback": [
      "\u001b[1;36m  Cell \u001b[1;32mIn[64], line 2\u001b[1;36m\u001b[0m\n\u001b[1;33m    1 for magician in magicians\u001b[0m\n\u001b[1;37m      ^\u001b[0m\n\u001b[1;31mSyntaxError\u001b[0m\u001b[1;31m:\u001b[0m invalid syntax\n"
     ]
    }
   ],
   "source": [
    "magicians = ['alice', 'david', 'carolina']\n",
    "1 for magician in magicians\n",
    "print(magician)"
   ]
  },
  {
   "cell_type": "markdown",
   "metadata": {},
   "source": [
    "## Exercises\n",
    "\n",
    "***4.1 Pizzas***"
   ]
  },
  {
   "cell_type": "code",
   "execution_count": null,
   "metadata": {},
   "outputs": [
    {
     "name": "stdout",
     "output_type": "stream",
     "text": [
      "I like Cheses the most.\n",
      "I like Company the most.\n",
      "I like 4P the most.\n",
      "I like Huts the most.\n",
      "\n",
      "Pizza is my favorite foods\n"
     ]
    }
   ],
   "source": [
    "pizza =[\"cheses\", \"company\", \"4P\", \"Huts\"]\n",
    "for a in pizza:\n",
    "    print(f\"I like {a.title()} the most.\")\n",
    "print(\"\\nPizza is my favorite foods\")"
   ]
  },
  {
   "cell_type": "markdown",
   "metadata": {},
   "source": [
    "***4.2 Animals***"
   ]
  },
  {
   "cell_type": "code",
   "execution_count": null,
   "metadata": {},
   "outputs": [
    {
     "name": "stdout",
     "output_type": "stream",
     "text": [
      "dog\n",
      "A Dog would make a great pet\n",
      "cat\n",
      "A Cat would make a great pet\n",
      "bird\n",
      "A Bird would make a great pet\n",
      "fish\n",
      "A Fish would make a great pet\n"
     ]
    }
   ],
   "source": [
    "animals = [\"dog\", \"cat\", \"bird\", \"fish\"]\n",
    "for a in animals :\n",
    "    print(a)\n",
    "    print(f\"A {a.title()} would make a great pet\")\n",
    "    "
   ]
  },
  {
   "cell_type": "markdown",
   "metadata": {},
   "source": [
    "## Making Numerical Lists \n",
    "### Using the `range()` function"
   ]
  },
  {
   "cell_type": "code",
   "execution_count": null,
   "metadata": {},
   "outputs": [
    {
     "name": "stdout",
     "output_type": "stream",
     "text": [
      "1\n",
      "2\n",
      "3\n",
      "4\n"
     ]
    }
   ],
   "source": [
    "for a in range(1,5):\n",
    "    print(a)"
   ]
  },
  {
   "cell_type": "markdown",
   "metadata": {},
   "source": [
    "The output never contain the end value (the second number)."
   ]
  },
  {
   "cell_type": "code",
   "execution_count": null,
   "metadata": {},
   "outputs": [
    {
     "name": "stdout",
     "output_type": "stream",
     "text": [
      "0\n",
      "1\n",
      "2\n",
      "3\n",
      "4\n"
     ]
    }
   ],
   "source": [
    "for a in range(5):\n",
    "    print(a)"
   ]
  },
  {
   "cell_type": "markdown",
   "metadata": {},
   "source": [
    "### Using `range()` to make a Lists of Numbers\n",
    "\n",
    "`list()` + `range()` <br>\n",
    "`range(start, end, step)`"
   ]
  },
  {
   "cell_type": "code",
   "execution_count": null,
   "metadata": {},
   "outputs": [
    {
     "name": "stdout",
     "output_type": "stream",
     "text": [
      "[0, 1, 2, 3, 4, 5]\n",
      "[2, 4, 6, 8, 10]\n"
     ]
    }
   ],
   "source": [
    "numbers = list(range(6))\n",
    "print(numbers)\n",
    "\n",
    "a = list(range(2,11,2))\n",
    "print(a)"
   ]
  },
  {
   "cell_type": "code",
   "execution_count": null,
   "metadata": {},
   "outputs": [
    {
     "name": "stdout",
     "output_type": "stream",
     "text": [
      "[1, 4, 9, 16, 25, 36, 49, 64, 81, 100]\n"
     ]
    }
   ],
   "source": [
    "squares =[]\n",
    "for a in range(1,11):\n",
    "    square = a**2\n",
    "    squares.append(square) #Them lan luot tung ki tu\n",
    "print(squares)"
   ]
  },
  {
   "cell_type": "code",
   "execution_count": null,
   "metadata": {},
   "outputs": [
    {
     "name": "stdout",
     "output_type": "stream",
     "text": [
      "[1, 4, 9, 16, 25, 36, 49, 64, 81, 100]\n"
     ]
    }
   ],
   "source": [
    "squares =[]\n",
    "for a in range(1,11):\n",
    "    squares.append(a**2) #Them lan luot tung ki tu\n",
    "print(squares)"
   ]
  },
  {
   "cell_type": "markdown",
   "metadata": {},
   "source": [
    "### Simple Statistics with a List of Numbers"
   ]
  },
  {
   "cell_type": "code",
   "execution_count": null,
   "metadata": {},
   "outputs": [
    {
     "name": "stdout",
     "output_type": "stream",
     "text": [
      "[0, 1, 2, 3, 4, 5, 6, 7, 8, 9]\n",
      "0\n",
      "9\n",
      "45\n"
     ]
    }
   ],
   "source": [
    "a = list(range(0, 10))\n",
    "print(a)\n",
    "print (min(a))\n",
    "print(max(a))\n",
    "print(sum(a))"
   ]
  },
  {
   "cell_type": "markdown",
   "metadata": {},
   "source": [
    "## List comprehension"
   ]
  },
  {
   "cell_type": "code",
   "execution_count": null,
   "metadata": {},
   "outputs": [
    {
     "name": "stdout",
     "output_type": "stream",
     "text": [
      "[1, 4, 9, 16, 25, 36, 49, 64, 81, 100]\n"
     ]
    }
   ],
   "source": [
    "a = [value**2 for value in range(1,11)]\n",
    "print(a)"
   ]
  },
  {
   "cell_type": "code",
   "execution_count": null,
   "metadata": {},
   "outputs": [
    {
     "name": "stdout",
     "output_type": "stream",
     "text": [
      "[1, 2, 6, 24, 120, 720, 5040, 40320, 362880, 3628800]\n"
     ]
    }
   ],
   "source": [
    "import math\n",
    "b = [math.factorial(value) for value in range(1, 11)]\n",
    "print(b)"
   ]
  },
  {
   "cell_type": "markdown",
   "metadata": {},
   "source": [
    "## Exercise\n",
    "***4.3 Counting to twenty***"
   ]
  },
  {
   "cell_type": "code",
   "execution_count": null,
   "metadata": {},
   "outputs": [
    {
     "name": "stdout",
     "output_type": "stream",
     "text": [
      "0\n",
      "1\n",
      "2\n",
      "3\n",
      "4\n",
      "5\n",
      "6\n",
      "7\n",
      "8\n",
      "9\n",
      "10\n",
      "11\n",
      "12\n",
      "13\n",
      "14\n",
      "15\n",
      "16\n",
      "17\n",
      "18\n",
      "19\n",
      "20\n",
      "[0, 1, 2, 3, 4, 5, 6, 7, 8, 9, 10, 11, 12, 13, 14, 15, 16, 17, 18, 19, 20]\n"
     ]
    }
   ],
   "source": [
    "for a in range(21):\n",
    "    print(a)\n",
    "\n",
    "b = list(range(21))\n",
    "print(b)"
   ]
  },
  {
   "cell_type": "markdown",
   "metadata": {},
   "source": [
    "***4.4 One Million***"
   ]
  },
  {
   "cell_type": "code",
   "execution_count": null,
   "metadata": {},
   "outputs": [
    {
     "name": "stdout",
     "output_type": "stream",
     "text": [
      "1\n",
      "2\n",
      "3\n",
      "4\n",
      "5\n",
      "6\n",
      "7\n",
      "8\n",
      "9\n",
      "10\n",
      "11\n",
      "12\n",
      "13\n",
      "14\n",
      "15\n",
      "16\n",
      "17\n",
      "18\n",
      "19\n",
      "20\n",
      "21\n",
      "22\n",
      "23\n",
      "24\n",
      "25\n",
      "26\n",
      "27\n",
      "28\n",
      "29\n",
      "30\n",
      "31\n",
      "32\n",
      "33\n",
      "34\n",
      "35\n",
      "36\n",
      "37\n",
      "38\n",
      "39\n",
      "40\n",
      "41\n",
      "42\n",
      "43\n",
      "44\n",
      "45\n",
      "46\n",
      "47\n",
      "48\n",
      "49\n",
      "50\n",
      "51\n",
      "52\n",
      "53\n",
      "54\n",
      "55\n",
      "56\n",
      "57\n",
      "58\n",
      "59\n",
      "60\n",
      "61\n",
      "62\n",
      "63\n",
      "64\n",
      "65\n",
      "66\n",
      "67\n",
      "68\n",
      "69\n",
      "70\n",
      "71\n",
      "72\n",
      "73\n",
      "74\n",
      "75\n",
      "76\n",
      "77\n",
      "78\n",
      "79\n",
      "80\n",
      "81\n",
      "82\n",
      "83\n",
      "84\n",
      "85\n",
      "86\n",
      "87\n",
      "88\n",
      "89\n",
      "90\n",
      "91\n",
      "92\n",
      "93\n",
      "94\n",
      "95\n",
      "96\n",
      "97\n",
      "98\n",
      "99\n"
     ]
    }
   ],
   "source": [
    "a = list(range(100))\n",
    "for b in range (1, len(a)):\n",
    "    print(a[b])"
   ]
  },
  {
   "cell_type": "markdown",
   "metadata": {},
   "source": [
    "***4.5 Summing a Million***\n"
   ]
  },
  {
   "cell_type": "code",
   "execution_count": null,
   "metadata": {},
   "outputs": [
    {
     "name": "stdout",
     "output_type": "stream",
     "text": [
      "1\n",
      "1000000\n",
      "500000500000\n"
     ]
    }
   ],
   "source": [
    "million = list(range(1, 1000001))\n",
    "print(min(million))\n",
    "print(max(million))\n",
    "print(sum(million))"
   ]
  },
  {
   "cell_type": "markdown",
   "metadata": {},
   "source": [
    "***4.6 Odd Number***"
   ]
  },
  {
   "cell_type": "code",
   "execution_count": null,
   "metadata": {},
   "outputs": [
    {
     "name": "stdout",
     "output_type": "stream",
     "text": [
      "0\n",
      "2\n",
      "4\n",
      "6\n",
      "8\n",
      "10\n",
      "12\n",
      "14\n",
      "16\n",
      "18\n",
      "20\n"
     ]
    }
   ],
   "source": [
    "a = list(range(0, 21,2))\n",
    "for b in a:\n",
    "    print(b)"
   ]
  },
  {
   "cell_type": "markdown",
   "metadata": {},
   "source": [
    "***4.7 Three***"
   ]
  },
  {
   "cell_type": "code",
   "execution_count": null,
   "metadata": {},
   "outputs": [
    {
     "name": "stdout",
     "output_type": "stream",
     "text": [
      "9\n",
      "12\n",
      "15\n",
      "18\n",
      "21\n",
      "24\n",
      "27\n",
      "30\n",
      "33\n",
      "36\n",
      "39\n",
      "42\n",
      "45\n",
      "48\n",
      "51\n",
      "54\n",
      "57\n",
      "60\n",
      "63\n",
      "66\n",
      "69\n",
      "72\n",
      "75\n",
      "78\n",
      "81\n",
      "84\n",
      "87\n",
      "90\n"
     ]
    }
   ],
   "source": [
    "a = [value*3 for value in range(3,31)]\n",
    "for b in a:\n",
    "    print(b)"
   ]
  },
  {
   "cell_type": "markdown",
   "metadata": {},
   "source": [
    "***4.8 Cubes***"
   ]
  },
  {
   "cell_type": "code",
   "execution_count": null,
   "metadata": {},
   "outputs": [
    {
     "name": "stdout",
     "output_type": "stream",
     "text": [
      "1\n",
      "8\n",
      "27\n",
      "64\n",
      "125\n",
      "216\n",
      "343\n",
      "512\n",
      "729\n",
      "1000\n"
     ]
    }
   ],
   "source": [
    "a = [value**3 for value in range(1,11)]\n",
    "for b in a:\n",
    " print(b)"
   ]
  },
  {
   "cell_type": "code",
   "execution_count": null,
   "metadata": {},
   "outputs": [
    {
     "name": "stdout",
     "output_type": "stream",
     "text": [
      "[1, 8, 27, 64, 125, 216, 343, 512, 729, 1000]\n"
     ]
    }
   ],
   "source": [
    "cube =[]\n",
    "for b in range(1,11):\n",
    "    b = b**3\n",
    "    cube.append(b)\n",
    "print(cube)"
   ]
  },
  {
   "cell_type": "markdown",
   "metadata": {},
   "source": [
    "***4.9 Cube Prehension***"
   ]
  },
  {
   "cell_type": "code",
   "execution_count": null,
   "metadata": {},
   "outputs": [
    {
     "name": "stdout",
     "output_type": "stream",
     "text": [
      "[1, 8, 27, 64, 125, 216, 343, 512, 729, 1000]\n"
     ]
    }
   ],
   "source": [
    "a = [value**3 for value in range(1,11)]\n",
    "print(a)"
   ]
  },
  {
   "cell_type": "markdown",
   "metadata": {},
   "source": [
    "## Working with Part of a Lists\n",
    "\n",
    "### Slicing a lists"
   ]
  },
  {
   "cell_type": "code",
   "execution_count": null,
   "metadata": {},
   "outputs": [
    {
     "name": "stdout",
     "output_type": "stream",
     "text": [
      "['Quý', 'Thư', 'Võ']\n"
     ]
    }
   ],
   "source": [
    "player = [\"Quý\", \"Thư\", \"Võ\", \"Anh\", \"Gia\"]\n",
    "print(player[0:3])"
   ]
  },
  {
   "cell_type": "code",
   "execution_count": null,
   "metadata": {},
   "outputs": [
    {
     "name": "stdout",
     "output_type": "stream",
     "text": [
      "['Quý', 'Thư']\n"
     ]
    }
   ],
   "source": [
    "player = [\"Quý\", \"Thư\", \"Võ\", \"Anh\", \"Gia\"]\n",
    "print(player[:2]) #No beginning, just ending"
   ]
  },
  {
   "cell_type": "code",
   "execution_count": null,
   "metadata": {},
   "outputs": [
    {
     "name": "stdout",
     "output_type": "stream",
     "text": [
      "['Võ', 'Anh', 'Gia']\n"
     ]
    }
   ],
   "source": [
    "player = [\"Quý\", \"Thư\", \"Võ\", \"Anh\", \"Gia\"]\n",
    "print(player[2:]) #No ending, just beginning "
   ]
  },
  {
   "cell_type": "code",
   "execution_count": null,
   "metadata": {},
   "outputs": [
    {
     "name": "stdout",
     "output_type": "stream",
     "text": [
      "['Quý', 'Võ', 'Gia']\n"
     ]
    }
   ],
   "source": [
    "player = [\"Quý\", \"Thư\", \"Võ\", \"Anh\", \"Gia\"]\n",
    "print(player[0:len(player):2]) #Bắt đầu từ vị trí thứ 2 từ cuối lên thì sau đó phải có vị trí xa hơn, không được gần hơn, gần hơn sẽ rỗng"
   ]
  },
  {
   "cell_type": "markdown",
   "metadata": {},
   "source": [
    "### Looping through Slice\n",
    "We can use slice in `for` loop "
   ]
  },
  {
   "cell_type": "code",
   "execution_count": null,
   "metadata": {},
   "outputs": [
    {
     "name": "stdout",
     "output_type": "stream",
     "text": [
      "Here are all the first three players of my team: \n",
      "\n",
      " Charles\n",
      "\n",
      " Martina\n",
      "\n",
      " Michael\n"
     ]
    }
   ],
   "source": [
    "players = ['charles', 'martina', 'michael', 'florence', 'eli']\n",
    "print(\"Here are all the first three players of my team: \")\n",
    "\n",
    "for a in players[:3] :\n",
    "    print(\"\\n\",a.title())    \n"
   ]
  },
  {
   "cell_type": "markdown",
   "metadata": {},
   "source": [
    "## Copying a Lists"
   ]
  },
  {
   "cell_type": "code",
   "execution_count": null,
   "metadata": {},
   "outputs": [
    {
     "name": "stdout",
     "output_type": "stream",
     "text": [
      "My favorite food are: \n",
      "['bánh cuốn', 'bánh mì', 'bánh xéo', 'bánh căn', 'bánh hỏi']\n",
      "Vat favorite food are: \n",
      "['bánh cuốn', 'bánh mì', 'bánh xéo', 'bánh căn', 'bánh hỏi']\n"
     ]
    }
   ],
   "source": [
    "my_food = [\"bánh cuốn\", \"bánh mì\", \"bánh xéo\", \"bánh căn\", \"bánh hỏi\"]\n",
    "vat_food = my_food[:]\n",
    "\n",
    "print(\"My favorite food are: \")\n",
    "print(my_food)  \n",
    "\n",
    "print(\"Vat favorite food are: \")\n",
    "print(vat_food)"
   ]
  },
  {
   "cell_type": "code",
   "execution_count": null,
   "metadata": {},
   "outputs": [
    {
     "name": "stdout",
     "output_type": "stream",
     "text": [
      "My favorite food are: \n",
      "['bánh cuốn', 'bánh mì', 'bánh xéo', 'bánh căn', 'bánh hỏi', 'cháo lòng']\n",
      "\n",
      "Vat favorite food are: \n",
      "['bánh cuốn', 'bánh mì', 'bánh xéo', 'bánh căn', 'bánh hỏi', 'sườn ram']\n"
     ]
    }
   ],
   "source": [
    "my_food = [\"bánh cuốn\", \"bánh mì\", \"bánh xéo\", \"bánh căn\", \"bánh hỏi\"]\n",
    "vat_food = my_food[:]\n",
    "\n",
    "my_food.append(\"cháo lòng\")\n",
    "vat_food.append(\"sườn ram\")\n",
    "\n",
    "print(\"My favorite food are: \")\n",
    "print(my_food)\n",
    "\n",
    "\n",
    "print(\"\\nVat favorite food are: \")\n",
    "print(vat_food)"
   ]
  },
  {
   "cell_type": "markdown",
   "metadata": {},
   "source": [
    "## Exercise\n",
    "***4.10 Slices***"
   ]
  },
  {
   "cell_type": "code",
   "execution_count": null,
   "metadata": {},
   "outputs": [
    {
     "name": "stdout",
     "output_type": "stream",
     "text": [
      "The first three items in the lists are: \n",
      "['Quý', 'Thư', 'Võ']\n",
      "\n",
      "The first items in the middle of the lists are: \n",
      "Võ\n",
      "\n",
      "The last three items of the lists are: \n",
      "['Võ', 'Anh', 'Gia']\n"
     ]
    }
   ],
   "source": [
    "friends = [\"Quý\", \"Thư\", \"Võ\", \"Anh\", \"Gia\"]\n",
    "\n",
    "print(\"The first three items in the lists are: \")\n",
    "print(friends[:3])\n",
    "\n",
    "print(\"\\nThe first items in the middle of the lists are: \")\n",
    "print(friends[int(len(friends)//2)])\n",
    "#print(friends[(len(friends))/2])\n",
    "\n",
    "print(\"\\nThe last three items of the lists are: \")\n",
    "print(friends[-3:])\n",
    "\n"
   ]
  },
  {
   "cell_type": "markdown",
   "metadata": {},
   "source": [
    "***4.11 My Pizzas, Your Pizzas***"
   ]
  },
  {
   "cell_type": "code",
   "execution_count": null,
   "metadata": {},
   "outputs": [
    {
     "name": "stdout",
     "output_type": "stream",
     "text": [
      "My favorite pizza are: \n",
      "- cheses\n",
      "- company\n",
      "- 4P\n",
      "- Huts\n",
      "- 247\n",
      "\n",
      "My friend favorite pizza are: \n",
      "- cheses\n",
      "- company\n",
      "- 4P\n",
      "- Huts\n",
      "- bbq\n"
     ]
    }
   ],
   "source": [
    "pizzas =[\"cheses\", \"company\", \"4P\", \"Huts\"]\n",
    "friend_pizza = pizzas[:]\n",
    "pizzas.append(\"247\")\n",
    "friend_pizza.append(\"bbq\")\n",
    "\n",
    "print(\"My favorite pizza are: \")\n",
    "for a in pizzas :\n",
    "    print(f\"- {a}\" )\n",
    "\n",
    "print(\"\\nMy friend favorite pizza are: \")\n",
    "for a in friend_pizza :\n",
    "    print(f\"- {a}\" )\n"
   ]
  },
  {
   "cell_type": "markdown",
   "metadata": {},
   "source": [
    "***4.12 More Loops***"
   ]
  },
  {
   "cell_type": "code",
   "execution_count": null,
   "metadata": {},
   "outputs": [
    {
     "name": "stdout",
     "output_type": "stream",
     "text": [
      "My favorite food are: \n",
      "Bánh Cuốn\n",
      "Bánh Mì\n",
      "Bánh Xéo\n",
      "Bánh Căn\n",
      "Bánh Hỏi\n"
     ]
    }
   ],
   "source": [
    "my_food = [\"bánh cuốn\", \"bánh mì\", \"bánh xéo\", \"bánh căn\", \"bánh hỏi\"]\n",
    "print(\"My favorite food are: \")\n",
    "for a in my_food:\n",
    "    print(a.title())"
   ]
  },
  {
   "cell_type": "markdown",
   "metadata": {},
   "source": [
    "# Tuples\n",
    "Python refers to the value that cannot changes as ***immutable***, and a immutable list is called a ***tuple***.\n",
    "***Tuples*** looks just like a list, except you use parentheses `( )` instead of square\n",
    "brackets `[ ]`"
   ]
  },
  {
   "cell_type": "code",
   "execution_count": null,
   "metadata": {},
   "outputs": [
    {
     "name": "stdout",
     "output_type": "stream",
     "text": [
      "200\n",
      "50\n"
     ]
    }
   ],
   "source": [
    "dimension = (200, 50) #Tuples\n",
    "print(dimension[0])\n",
    "print(dimension[1])"
   ]
  },
  {
   "cell_type": "markdown",
   "metadata": {},
   "source": [
    "Try to change a value in ***tuple***"
   ]
  },
  {
   "cell_type": "code",
   "execution_count": null,
   "metadata": {},
   "outputs": [
    {
     "ename": "TypeError",
     "evalue": "'tuple' object does not support item assignment",
     "output_type": "error",
     "traceback": [
      "\u001b[1;31m---------------------------------------------------------------------------\u001b[0m",
      "\u001b[1;31mTypeError\u001b[0m                                 Traceback (most recent call last)",
      "Cell \u001b[1;32mIn[30], line 2\u001b[0m\n\u001b[0;32m      1\u001b[0m dimension \u001b[38;5;241m=\u001b[39m (\u001b[38;5;241m200\u001b[39m, \u001b[38;5;241m50\u001b[39m)\n\u001b[1;32m----> 2\u001b[0m \u001b[43mdimension\u001b[49m\u001b[43m[\u001b[49m\u001b[38;5;241;43m0\u001b[39;49m\u001b[43m]\u001b[49m\u001b[38;5;241m=\u001b[39m \u001b[38;5;241m2020\u001b[39m\n\u001b[0;32m      3\u001b[0m dimension\n",
      "\u001b[1;31mTypeError\u001b[0m: 'tuple' object does not support item assignment"
     ]
    }
   ],
   "source": [
    "dimension = (200, 50)\n",
    "dimension[0]= 2020\n",
    "dimension"
   ]
  },
  {
   "cell_type": "markdown",
   "metadata": {},
   "source": [
    "We cannot try the value in the tuples.\n",
    "\n",
    "<span style=\"color:red; font-weight:bold;\">⚠ Note:</span> Tuples are technically defined by the comma, while parentheses simply enhance readability.  \n",
    "<br>To define a tuple with a single element, a trailing comma is required:"
   ]
  },
  {
   "cell_type": "code",
   "execution_count": null,
   "metadata": {},
   "outputs": [],
   "source": [
    "my_t = (1,)"
   ]
  },
  {
   "cell_type": "markdown",
   "metadata": {},
   "source": [
    "## Looping Through all the values in a Tuple\n",
    "\n",
    "> `for `"
   ]
  },
  {
   "cell_type": "code",
   "execution_count": null,
   "metadata": {},
   "outputs": [
    {
     "name": "stdout",
     "output_type": "stream",
     "text": [
      "200\n",
      "50\n"
     ]
    }
   ],
   "source": [
    "dimension = (200, 50)\n",
    "for a in dimension:\n",
    "    print(a)"
   ]
  },
  {
   "cell_type": "markdown",
   "metadata": {},
   "source": [
    "## Writing over a Tuple\n",
    "Although we can't modify a tuple, we can assign a new value to a variable that represents `tuple`"
   ]
  },
  {
   "cell_type": "code",
   "execution_count": null,
   "metadata": {},
   "outputs": [
    {
     "name": "stdout",
     "output_type": "stream",
     "text": [
      "Original dimensions: \n",
      "200\n",
      "50\n",
      "\n",
      "Modified dimensions: \n",
      "400\n",
      "50\n"
     ]
    }
   ],
   "source": [
    "dimension = (200,50)\n",
    "print(\"Original dimensions: \")\n",
    "for a in dimension:\n",
    "    print(a)\n",
    "\n",
    "dimension = (400, 50)\n",
    "print(\"\\nModified dimensions: \")\n",
    "for a in dimension:\n",
    "    print(a)"
   ]
  },
  {
   "cell_type": "markdown",
   "metadata": {},
   "source": [
    "## Exercise\n",
    "***4.13 Buffet***"
   ]
  },
  {
   "cell_type": "code",
   "execution_count": null,
   "metadata": {},
   "outputs": [
    {
     "name": "stdout",
     "output_type": "stream",
     "text": [
      "com\n",
      "pho\n",
      "bun bo\n",
      "chao\n",
      "banh xeo\n",
      "\n",
      "\n",
      "banh can\n",
      "pho\n",
      "bun bo\n",
      "mieng\n",
      "banh xeo\n"
     ]
    }
   ],
   "source": [
    "buffet = (\"com\", \"pho\", \"bun bo\", \"chao\", \"banh xeo\")\n",
    "for a in buffet:\n",
    "    print(a)\n",
    "print(\"\\n\")    \n",
    "buffet = (\"banh can\", \"pho\", \"bun bo\", \"mieng\", \"banh xeo\")\n",
    "for a in buffet:\n",
    "    print(a)\n",
    "\n"
   ]
  },
  {
   "cell_type": "markdown",
   "metadata": {},
   "source": [
    "## Styling our code\n",
    "\n",
    "### The Style Guide\n",
    "PEP8, which the instructs *python* programmers on how to style their code. \n",
    "\n",
    "The Python Style Guide was written with the understanding that the code is read more often than it is written. \n",
    "\n",
    "Write code that's easier to read.\n"
   ]
  },
  {
   "cell_type": "markdown",
   "metadata": {},
   "source": [
    "### Indentation\n",
    "*PEP8* recommends use four spaces per indentation level. \n",
    "\n",
    "Avoiding mixing `tab` and `space`"
   ]
  },
  {
   "cell_type": "markdown",
   "metadata": {},
   "source": [
    "### Line Length\n",
    "Recommend: `79` characters in a line\n",
    "\n",
    "### Blank Lines\n",
    "To group part of the program visually, use the blank lines.\n",
    "\n",
    "### Other Style Guidlines\n",
    "More than that in `PEP8`"
   ]
  },
  {
   "cell_type": "markdown",
   "metadata": {},
   "source": [
    "### Exercises\n",
    "***4.15 Code Review ***"
   ]
  },
  {
   "cell_type": "markdown",
   "metadata": {},
   "source": [
    "# Summary\n",
    "Working with a lists\n",
    "- Looping\n",
    "- Notice intendant\n",
    "- List comprehension\n",
    "- Slicing a lists\n",
    "\n",
    "Tuple\n",
    "- Looping\n",
    "\n",
    "Style your code\n",
    "- Spaces\n",
    "- Line length\n",
    "- Blank lines\n"
   ]
  }
 ],
 "metadata": {
  "kernelspec": {
   "display_name": "Python 3",
   "language": "python",
   "name": "python3"
  },
  "language_info": {
   "codemirror_mode": {
    "name": "ipython",
    "version": 3
   },
   "file_extension": ".py",
   "mimetype": "text/x-python",
   "name": "python",
   "nbconvert_exporter": "python",
   "pygments_lexer": "ipython3",
   "version": "3.13.0"
  }
 },
 "nbformat": 4,
 "nbformat_minor": 2
}
