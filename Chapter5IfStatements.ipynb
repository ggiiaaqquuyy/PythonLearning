{
 "cells": [
  {
   "cell_type": "code",
   "execution_count": 382,
   "metadata": {},
   "outputs": [
    {
     "name": "stdout",
     "output_type": "stream",
     "text": [
      "Audi\n",
      "BMW\n",
      "Subaru\n",
      "Toyota\n"
     ]
    }
   ],
   "source": [
    "cars = ['audi', 'bmw', 'subaru', 'toyota']\n",
    "\n",
    "for a in cars:\n",
    "    if a =='bmw':\n",
    "        print(a.upper())\n",
    "    else:\n",
    "        print(a.title())  "
   ]
  },
  {
   "cell_type": "markdown",
   "metadata": {},
   "source": [
    "# Conditional Tests\n",
    "\n",
    "`If`statement is an expression that can be evaluated as *True* or *False* and is called a *conditional test*\n",
    "## Checking for Equality"
   ]
  },
  {
   "cell_type": "code",
   "execution_count": 383,
   "metadata": {},
   "outputs": [
    {
     "data": {
      "text/plain": [
       "True"
      ]
     },
     "execution_count": 383,
     "metadata": {},
     "output_type": "execute_result"
    }
   ],
   "source": [
    "car = 'bmw'\n",
    "car == 'bmw' #equality operator "
   ]
  },
  {
   "cell_type": "markdown",
   "metadata": {},
   "source": [
    "## Ignoring Case when checking for Equality"
   ]
  },
  {
   "cell_type": "code",
   "execution_count": 384,
   "metadata": {},
   "outputs": [
    {
     "data": {
      "text/plain": [
       "False"
      ]
     },
     "execution_count": 384,
     "metadata": {},
     "output_type": "execute_result"
    }
   ],
   "source": [
    "car = 'Audi'\n",
    "car == 'audi'"
   ]
  },
  {
   "cell_type": "markdown",
   "metadata": {},
   "source": [
    "Two value with different in capitalization are not considered equally.\n",
    "\n",
    "But in case that doesn't matter, we can convert it to lowercase before doing the comparision. "
   ]
  },
  {
   "cell_type": "code",
   "execution_count": 385,
   "metadata": {},
   "outputs": [
    {
     "data": {
      "text/plain": [
       "True"
      ]
     },
     "execution_count": 385,
     "metadata": {},
     "output_type": "execute_result"
    }
   ],
   "source": [
    "car = 'Audi'\n",
    "car.lower() == 'audi'"
   ]
  },
  {
   "cell_type": "markdown",
   "metadata": {},
   "source": [
    "## Checking for Inequality\n",
    "\n",
    "`!=` inequality operator"
   ]
  },
  {
   "cell_type": "code",
   "execution_count": 386,
   "metadata": {},
   "outputs": [
    {
     "name": "stdout",
     "output_type": "stream",
     "text": [
      "Hold the anchovies!\n"
     ]
    }
   ],
   "source": [
    "requested_topping = 'mushrooms'\n",
    "\n",
    "if requested_topping != 'anchovies':\n",
    "    print(\"Hold the anchovies!\")\n"
   ]
  },
  {
   "cell_type": "markdown",
   "metadata": {},
   "source": [
    "## Numerical Comparision"
   ]
  },
  {
   "cell_type": "code",
   "execution_count": 387,
   "metadata": {},
   "outputs": [
    {
     "data": {
      "text/plain": [
       "True"
      ]
     },
     "execution_count": 387,
     "metadata": {},
     "output_type": "execute_result"
    }
   ],
   "source": [
    "age = 18\n",
    "age == 18 "
   ]
  },
  {
   "cell_type": "code",
   "execution_count": 388,
   "metadata": {},
   "outputs": [
    {
     "name": "stdout",
     "output_type": "stream",
     "text": [
      "The answer is not correct. Please try again.\n",
      "The answer is not correct. Please try again.\n",
      "The answer is not correct. Please try again.\n",
      "The answer is not correct. Please try again.\n",
      "The answer is not correct. Please try again.\n",
      "The answer is not correct. Please try again.\n",
      "The answer is not correct. Please try again.\n",
      "You are right!\n"
     ]
    }
   ],
   "source": [
    "answer = [10, 15, 18, 19, 25, 40, 41, 42]\n",
    "for a in answer:\n",
    "    if a != 42:\n",
    "        print(\"The answer is not correct. Please try again.\")\n",
    "    else:\n",
    "        print(\"You are right!\")\n"
   ]
  },
  {
   "cell_type": "markdown",
   "metadata": {},
   "source": [
    "## Checking Multiple Conditions\n",
    "Sometime we need to check more than 1 condition to be `True` to take action.\n",
    "\n",
    "### Using `and` to check Multiple Conditions"
   ]
  },
  {
   "cell_type": "code",
   "execution_count": 389,
   "metadata": {},
   "outputs": [
    {
     "name": "stdout",
     "output_type": "stream",
     "text": [
      "True\n",
      "True\n"
     ]
    }
   ],
   "source": [
    "age_0 = 18\n",
    "age_1 = 21\n",
    "print(age_0 and age_1 >=17)\n",
    "#or\n",
    "print((age_0) and (age_1) <=25)"
   ]
  },
  {
   "cell_type": "markdown",
   "metadata": {},
   "source": [
    "### Using `or` to check multiple conditions"
   ]
  },
  {
   "cell_type": "code",
   "execution_count": 390,
   "metadata": {},
   "outputs": [
    {
     "data": {
      "text/plain": [
       "True"
      ]
     },
     "execution_count": 390,
     "metadata": {},
     "output_type": "execute_result"
    }
   ],
   "source": [
    "age_0 = 18\n",
    "age_1 = 21\n",
    "age_0 > 18 or age_1 > 18"
   ]
  },
  {
   "cell_type": "markdown",
   "metadata": {},
   "source": [
    "## Checking whether a Value is in a List"
   ]
  },
  {
   "cell_type": "code",
   "execution_count": 391,
   "metadata": {},
   "outputs": [
    {
     "name": "stdout",
     "output_type": "stream",
     "text": [
      "True\n",
      "False\n",
      "False\n"
     ]
    }
   ],
   "source": [
    "requested_topping = ['mushrooms', 'onions', 'pineapple']\n",
    "print('mushrooms' in requested_topping)\n",
    "print('mushrooms ' in requested_topping) #Chu y ki tu\n",
    "print('pepperoni' in requested_topping)"
   ]
  },
  {
   "cell_type": "markdown",
   "metadata": {},
   "source": [
    "## Checking Whether a Value is not in a List"
   ]
  },
  {
   "cell_type": "code",
   "execution_count": 392,
   "metadata": {},
   "outputs": [
    {
     "name": "stdout",
     "output_type": "stream",
     "text": [
      "Marie, you can post anything you want.\n"
     ]
    }
   ],
   "source": [
    "banned_users = ['andrew', 'carolina', 'david']\n",
    "user = 'marie'\n",
    "if user not in banned_users:\n",
    "    print(f\"{user.title()}, you can post anything you want.\")"
   ]
  },
  {
   "cell_type": "code",
   "execution_count": 393,
   "metadata": {},
   "outputs": [
    {
     "name": "stdout",
     "output_type": "stream",
     "text": [
      "Maria, you can post anything you want.\n",
      "Vat, you can post anything you want.\n"
     ]
    }
   ],
   "source": [
    "banned_users = ['andrew', 'carolina', 'david']\n",
    "users = ['maria', 'VAT', 'david']\n",
    "for a in users:\n",
    "    if a not in banned_users:\n",
    "        print(f\"{a.title()}, you can post anything you want.\")"
   ]
  },
  {
   "cell_type": "markdown",
   "metadata": {},
   "source": [
    "Chú ý rằng:\n",
    "- Hàm `not in` or `in` chỉ kiểm tra 1 value có nằm trong list hay không thôi\n",
    "- a.title() chỉ dùng cho 1 value trong lists, không phải cải lists, nếu dùng cả list phải modify đến từng element bằng `for` hoặc `list comprhension`"
   ]
  },
  {
   "cell_type": "code",
   "execution_count": 394,
   "metadata": {},
   "outputs": [
    {
     "name": "stdout",
     "output_type": "stream",
     "text": [
      "['Andrew', 'Carolina', 'David']\n",
      "['Andrew', 'Carolina', 'David']\n"
     ]
    }
   ],
   "source": [
    "# List Comprehension\n",
    "banned_users = ['andrew', 'carolina', 'david']\n",
    "print([a.title() for a in banned_users])\n",
    "#or\n",
    "print(list(a.title() for a in banned_users))\n",
    "#Chú ý cần biến đổi thành list để print được"
   ]
  },
  {
   "cell_type": "markdown",
   "metadata": {},
   "source": [
    "## Boolean Expression\n",
    "*Boolean Expression* is just another name for the *condition test* <br>\n",
    "A *Boolean Value* is either **True** or **False**"
   ]
  },
  {
   "cell_type": "code",
   "execution_count": 395,
   "metadata": {},
   "outputs": [],
   "source": [
    "game_active = True\n",
    "can_edit = False"
   ]
  },
  {
   "cell_type": "markdown",
   "metadata": {},
   "source": [
    "# Exercise\n",
    "***5.1 Conditional Tests***"
   ]
  },
  {
   "cell_type": "code",
   "execution_count": 396,
   "metadata": {},
   "outputs": [
    {
     "name": "stdout",
     "output_type": "stream",
     "text": [
      "Is motorbike == 'vision'? I predict True \n",
      "True\n",
      "\n",
      "Is motorbike == 'sh'? I predict False \n",
      "False\n"
     ]
    }
   ],
   "source": [
    "motorbike = 'vision'\n",
    "print(\"Is motorbike == 'vision'? I predict True \")\n",
    "print(motorbike == 'vision')\n",
    "\n",
    "print(\"\\nIs motorbike == 'sh'? I predict False \")\n",
    "print(motorbike == 'sh')"
   ]
  },
  {
   "cell_type": "markdown",
   "metadata": {},
   "source": [
    "***5.2 More Conditional Tests***"
   ]
  },
  {
   "cell_type": "code",
   "execution_count": 397,
   "metadata": {},
   "outputs": [
    {
     "name": "stdout",
     "output_type": "stream",
     "text": [
      "False\n",
      "False\n",
      "Quy Gia is not in the love\n"
     ]
    }
   ],
   "source": [
    "love = ['VAT', 'Op la', 'Thu Vo', '10%']\n",
    "a = 'Quy Gia'\n",
    "print(a == love)\n",
    "print(a.lower() == love)\n",
    "\n",
    "if a in love:\n",
    "    print(f\"{a.title()} is in the love\")\n",
    "else:\n",
    "    print(f\"{a.title()} is not in the love\")"
   ]
  },
  {
   "cell_type": "markdown",
   "metadata": {},
   "source": [
    "# If Statements\n",
    "## Simple If Statements\n",
    "if *conditional_test*: <br>\n",
    "    do_something"
   ]
  },
  {
   "cell_type": "code",
   "execution_count": 398,
   "metadata": {},
   "outputs": [
    {
     "name": "stdout",
     "output_type": "stream",
     "text": [
      "You can drive the car.\n",
      "You are old enough to vote\n",
      "Have you registered to vote yet?\n"
     ]
    }
   ],
   "source": [
    "age = 19\n",
    "if age >= 18:\n",
    "    print(\"You can drive the car.\")\n",
    "    print(\"You are old enough to vote\")\n",
    "    print(\"Have you registered to vote yet?\")\n"
   ]
  },
  {
   "cell_type": "markdown",
   "metadata": {},
   "source": [
    "## `If` `else` Statements"
   ]
  },
  {
   "cell_type": "code",
   "execution_count": 399,
   "metadata": {},
   "outputs": [
    {
     "name": "stdout",
     "output_type": "stream",
     "text": [
      "Sorry, you are too young to vote.\n",
      "Please register to vote as soon as you turn 18.\n"
     ]
    }
   ],
   "source": [
    "age = 15\n",
    "if age >= 18:\n",
    "    print(\"You can drive the car.\")\n",
    "    print(\"You are old enough to vote\")\n",
    "    print(\"Have you registered to vote yet?\")\n",
    "else:\n",
    "    print(\"Sorry, you are too young to vote.\")\n",
    "    print(\"Please register to vote as soon as you turn 18.\")"
   ]
  },
  {
   "cell_type": "markdown",
   "metadata": {},
   "source": [
    "## The `If` `elif` `Else` Chain"
   ]
  },
  {
   "cell_type": "code",
   "execution_count": 400,
   "metadata": {},
   "outputs": [
    {
     "name": "stdout",
     "output_type": "stream",
     "text": [
      "Your admission cost is $40\n"
     ]
    }
   ],
   "source": [
    "age = 18\n",
    "if age < 4:\n",
    "    print(\"Your admission cost is $0\")\n",
    "elif age < 18:\n",
    "    print(\"Your admission cost is $25\")\n",
    "else:\n",
    "    print(\"Your admission cost is $40\")"
   ]
  },
  {
   "cell_type": "markdown",
   "metadata": {},
   "source": [
    "Another way to express"
   ]
  },
  {
   "cell_type": "code",
   "execution_count": 401,
   "metadata": {},
   "outputs": [
    {
     "name": "stdout",
     "output_type": "stream",
     "text": [
      "Your admission cost is $40.\n"
     ]
    }
   ],
   "source": [
    "age = 18\n",
    "if age <4:\n",
    "    price = 0\n",
    "elif age < 18:\n",
    "    price = 25\n",
    "else:\n",
    "    price = 40\n",
    "\n",
    "print(f\"Your admission cost is ${price}.\")"
   ]
  },
  {
   "cell_type": "markdown",
   "metadata": {},
   "source": [
    "## Using Multiple If-elif-else Chain"
   ]
  },
  {
   "cell_type": "code",
   "execution_count": 402,
   "metadata": {},
   "outputs": [
    {
     "name": "stdout",
     "output_type": "stream",
     "text": [
      "Your admission cost is $0.\n",
      "Your admission cost is $25.\n",
      "Your admission cost is $25.\n",
      "Your admission cost is $40.\n",
      "Your admission cost is $40.\n",
      "Your admission cost is $0.\n"
     ]
    }
   ],
   "source": [
    "age = [1,5,8,18,30,70]\n",
    "for a in age:\n",
    "    if a < 4 :\n",
    "        price = 0\n",
    "    elif a < 18:\n",
    "        price = 25\n",
    "    elif a < 65:\n",
    "        price = 40\n",
    "    else:\n",
    "        price = 0\n",
    "    print(f\"Your admission cost is ${price}.\")\n",
    "\n"
   ]
  },
  {
   "cell_type": "markdown",
   "metadata": {},
   "source": [
    "## Omitting the `else` Block\n",
    "Python does not require `else` at the end of an `if-else` chain."
   ]
  },
  {
   "cell_type": "code",
   "execution_count": 403,
   "metadata": {},
   "outputs": [
    {
     "name": "stdout",
     "output_type": "stream",
     "text": [
      "Your admission cost is $0.\n",
      "Your admission cost is $25.\n",
      "Your admission cost is $25.\n",
      "Your admission cost is $40.\n",
      "Your admission cost is $40.\n",
      "Your admission cost is $0.\n"
     ]
    }
   ],
   "source": [
    "age = [1,5,8,18,30,70]\n",
    "for a in age:\n",
    "    if a < 4 :\n",
    "        price = 0\n",
    "    elif a < 18:\n",
    "        price = 25\n",
    "    elif a < 65:\n",
    "        price = 40\n",
    "    elif a>65:\n",
    "        price = 0\n",
    "    print(f\"Your admission cost is ${price}.\")"
   ]
  },
  {
   "cell_type": "markdown",
   "metadata": {},
   "source": [
    "## Testing Multiple Conditions"
   ]
  },
  {
   "cell_type": "code",
   "execution_count": 404,
   "metadata": {},
   "outputs": [
    {
     "name": "stdout",
     "output_type": "stream",
     "text": [
      "Adding mushrooms.\n",
      "Adding extra cheese\n",
      "\n",
      "Finished making your pizza.\n"
     ]
    }
   ],
   "source": [
    "requested_topping = ['mushrooms', 'extra cheese']\n",
    "if 'mushrooms' in requested_topping:\n",
    "    print(\"Adding mushrooms.\")\n",
    "if 'pepperoni' in requested_topping:\n",
    "    print(\"Adding pepperoni.\")\n",
    "if 'extra cheese' in requested_topping:\n",
    "    print(\"Adding extra cheese\")\n",
    "print(\"\\nFinished making your pizza.\")"
   ]
  },
  {
   "cell_type": "markdown",
   "metadata": {},
   "source": [
    "The code would not run properly if we used an if-elif-else block, because the code would stop running when one test is passed. "
   ]
  },
  {
   "cell_type": "code",
   "execution_count": 405,
   "metadata": {},
   "outputs": [
    {
     "name": "stdout",
     "output_type": "stream",
     "text": [
      "Adding mushrooms.\n",
      "\n",
      "Finished making your pizza.\n"
     ]
    }
   ],
   "source": [
    "requested_topping = ['mushrooms', 'extra cheese']\n",
    "if 'mushrooms' in requested_topping:\n",
    "    print(\"Adding mushrooms.\")\n",
    "elif 'pepperoni' in requested_topping:\n",
    "    print(\"Adding pepperoni.\")\n",
    "elif 'extra cheese' in requested_topping:\n",
    "    print(\"Adding extra cheese\")\n",
    "print(\"\\nFinished making your pizza.\")"
   ]
  },
  {
   "cell_type": "markdown",
   "metadata": {},
   "source": [
    "# Exercise\n",
    "***5.3 Alien Color***"
   ]
  },
  {
   "cell_type": "code",
   "execution_count": 406,
   "metadata": {},
   "outputs": [
    {
     "name": "stdout",
     "output_type": "stream",
     "text": [
      "You earn 5 points.\n",
      "You are not adding any points.\n",
      "You are not adding any points.\n"
     ]
    }
   ],
   "source": [
    "alien_color = ['green', 'yellow', 'red']\n",
    "for a in alien_color:\n",
    "    if a == 'green':\n",
    "        print(\"You earn 5 points.\")\n",
    "    else:\n",
    "        print(\"You are not adding any points.\")"
   ]
  },
  {
   "cell_type": "markdown",
   "metadata": {},
   "source": [
    "***5.4 Alien Color***"
   ]
  },
  {
   "cell_type": "code",
   "execution_count": 407,
   "metadata": {},
   "outputs": [
    {
     "name": "stdout",
     "output_type": "stream",
     "text": [
      "You earn 5 points.\n",
      "You earn 10 points.\n",
      "You earn 10 points.\n"
     ]
    }
   ],
   "source": [
    "alien_color = ['green', 'yellow', 'red']\n",
    "for a in alien_color:\n",
    "    if a == 'green':\n",
    "        print(\"You earn 5 points.\")\n",
    "    else:\n",
    "        print(\"You earn 10 points.\")"
   ]
  },
  {
   "cell_type": "markdown",
   "metadata": {},
   "source": [
    "***5.5 Alien Color***"
   ]
  },
  {
   "cell_type": "code",
   "execution_count": 408,
   "metadata": {},
   "outputs": [
    {
     "name": "stdout",
     "output_type": "stream",
     "text": [
      "You earn 5 points.\n",
      "You earn 10 points.\n",
      "You earn 15 points.\n"
     ]
    }
   ],
   "source": [
    "alien_color = ['green', 'yellow', 'red']\n",
    "for a in alien_color:\n",
    "    if a == 'green':\n",
    "        print(\"You earn 5 points.\")\n",
    "    elif a =='yellow':\n",
    "        print(\"You earn 10 points.\")\n",
    "    else:\n",
    "        print(\"You earn 15 points.\")"
   ]
  },
  {
   "cell_type": "markdown",
   "metadata": {},
   "source": [
    "***5.6 Stages of Life***"
   ]
  },
  {
   "cell_type": "code",
   "execution_count": 409,
   "metadata": {},
   "outputs": [
    {
     "name": "stdout",
     "output_type": "stream",
     "text": [
      "You are an adult.\n"
     ]
    }
   ],
   "source": [
    "age = 20\n",
    "if age <2:\n",
    "    print(\"You are a baby.\")\n",
    "elif age < 4:\n",
    "    print(\"You are a toddler.\")\n",
    "elif age < 13:\n",
    "    print(\"You are is a kid.\")\n",
    "elif age < 20:\n",
    "    print(\"You are a teenager\")\n",
    "elif age < 65:\n",
    "    print(\"You are an adult.\")\n",
    "else:\n",
    "    print(\" You are an elder\")"
   ]
  },
  {
   "cell_type": "markdown",
   "metadata": {},
   "source": [
    "***5.7 Favorite Foods***\n"
   ]
  },
  {
   "cell_type": "code",
   "execution_count": 410,
   "metadata": {},
   "outputs": [
    {
     "name": "stdout",
     "output_type": "stream",
     "text": [
      "I dont like cam really much.\n",
      "I dont like vai really much.\n",
      "I really love oi.\n"
     ]
    }
   ],
   "source": [
    "favorite_fruits = ['oi', 'xoai', 'man', 'sau rieng']\n",
    "if 'cam' in favorite_fruits:\n",
    "    print(\"I really love cam.\")\n",
    "else:\n",
    "    print(\"I dont like cam really much.\")\n",
    "\n",
    "\n",
    "if 'vai' in favorite_fruits:\n",
    "    print(\"I really love vai.\")\n",
    "else:\n",
    "    print(\"I dont like vai really much.\")    \n",
    "\n",
    "if 'oi' in favorite_fruits:\n",
    "    print(\"I really love oi.\")\n",
    "else:\n",
    "    print(\"I dont like oi really much.\")"
   ]
  },
  {
   "cell_type": "markdown",
   "metadata": {},
   "source": [
    "# Using If statements with Lists\n",
    "## Checking for special items"
   ]
  },
  {
   "cell_type": "code",
   "execution_count": 411,
   "metadata": {},
   "outputs": [
    {
     "name": "stdout",
     "output_type": "stream",
     "text": [
      "Adding Mushrooms\n",
      "Sorry, we are out of green pepper right now.\n",
      "Adding Extra Cheese\n",
      "\n",
      "Finishing making your pizza.\n"
     ]
    }
   ],
   "source": [
    "requested_topping = ['mushrooms', 'green peppers', 'extra cheese']\n",
    "\n",
    "for a in requested_topping:\n",
    "    if a == 'green peppers':\n",
    "        print(\"Sorry, we are out of green pepper right now.\")\n",
    "    else:\n",
    "        print(f\"Adding {a.title()}\")    \n",
    "print(\"\\nFinishing making your pizza.\")"
   ]
  },
  {
   "cell_type": "markdown",
   "metadata": {},
   "source": [
    "## Checking that the List is not Empty"
   ]
  },
  {
   "cell_type": "code",
   "execution_count": 412,
   "metadata": {},
   "outputs": [
    {
     "name": "stdout",
     "output_type": "stream",
     "text": [
      "Are you sure you want a plain pizza?\n"
     ]
    }
   ],
   "source": [
    "requested_toppings = []\n",
    "if requested_toppings: #Check that do the list is empty\n",
    "    for requested_topping in requested_toppings:\n",
    "        print(f\"Adding {requested_topping}.\")\n",
    "    print(\"\\nFinished making your pizza!\")\n",
    "else:\n",
    "    print(\"Are you sure you want a plain pizza?\")   "
   ]
  },
  {
   "cell_type": "markdown",
   "metadata": {},
   "source": [
    "## Using Multiple Lists"
   ]
  },
  {
   "cell_type": "code",
   "execution_count": 413,
   "metadata": {},
   "outputs": [
    {
     "name": "stdout",
     "output_type": "stream",
     "text": [
      "Adding Mushrooms.\n",
      "Sorry, we don't have French Fries.\n",
      "Adding Extra Cheese.\n",
      "\n",
      "Finishing your pizza.\n"
     ]
    }
   ],
   "source": [
    "available_toppings = ['mushrooms', 'olives', 'green peppers', 'pepperoni', 'pineapple', 'extra cheese']\n",
    "\n",
    "requested_toppings = ['mushrooms', 'french fries', 'extra cheese']\n",
    "\n",
    "for a in requested_toppings:\n",
    "    if a in available_toppings:\n",
    "        print(f\"Adding {a.title()}.\")\n",
    "    else:\n",
    "        print(f\"Sorry, we don't have {a.title()}.\")\n",
    "\n",
    "print(\"\\nFinishing your pizza.\")"
   ]
  },
  {
   "cell_type": "markdown",
   "metadata": {},
   "source": [
    "# Exercises\n",
    "***5.8 Hello Admin***"
   ]
  },
  {
   "cell_type": "code",
   "execution_count": 414,
   "metadata": {},
   "outputs": [
    {
     "name": "stdout",
     "output_type": "stream",
     "text": [
      "Hello Admin, would you like to see a status report?\n",
      "Hello Vat, thank you for logging in again.\n",
      "Hello Thu Vo, thank you for logging in again.\n",
      "Hello Quy Gia, thank you for logging in again.\n",
      "Hello 10%, thank you for logging in again.\n"
     ]
    }
   ],
   "source": [
    "list = ['admin', 'VAT', 'Thu Vo', 'Quy Gia', '10%']\n",
    "for a in list:\n",
    "    if a == 'admin':\n",
    "        print(f\"Hello {a.title()}, would you like to see a status report?\")\n",
    "    else:\n",
    "        print(f\"Hello {a.title()}, thank you for logging in again.\")"
   ]
  },
  {
   "cell_type": "markdown",
   "metadata": {},
   "source": [
    "***5.9 No Users***"
   ]
  },
  {
   "cell_type": "code",
   "execution_count": 415,
   "metadata": {},
   "outputs": [
    {
     "name": "stdout",
     "output_type": "stream",
     "text": [
      "We need to find more users.\n"
     ]
    }
   ],
   "source": [
    "list = []\n",
    "if list:\n",
    "    print(\"Hello all of you.\")\n",
    "else:\n",
    "    print(\"We need to find more users.\")"
   ]
  },
  {
   "cell_type": "markdown",
   "metadata": {},
   "source": [
    "***5.10 Checking Usernames***"
   ]
  },
  {
   "cell_type": "code",
   "execution_count": 416,
   "metadata": {},
   "outputs": [
    {
     "name": "stdout",
     "output_type": "stream",
     "text": [
      "Great, Opla is available now.\n",
      "Sorry, Vat is used, please enter the new ones.\n",
      "Great, Banh Mi is available now.\n",
      "Sorry, 10% is used, please enter the new ones.\n"
     ]
    }
   ],
   "source": [
    "current_users = ['admin', 'vat', 'Thu Vo', 'Quy Gia', '10%']\n",
    "new_users = ['opla', 'VAT', 'Banh mi', '10%']\n",
    "for a in new_users:\n",
    "    if a.lower() in current_users:\n",
    "        print(f\"Sorry, {a.title()} is used, please enter the new ones.\")\n",
    "    else:\n",
    "        print(f\"Great, {a.title()} is available now.\")"
   ]
  },
  {
   "cell_type": "code",
   "execution_count": null,
   "metadata": {},
   "outputs": [],
   "source": []
  },
  {
   "cell_type": "markdown",
   "metadata": {},
   "source": [
    "***5.11 Ordinal Numbers***"
   ]
  },
  {
   "cell_type": "code",
   "execution_count": 417,
   "metadata": {},
   "outputs": [
    {
     "name": "stdout",
     "output_type": "stream",
     "text": [
      "1st\n",
      "2nd\n",
      "3rd\n",
      "4th\n",
      "5th\n",
      "6th\n",
      "7th\n",
      "8th\n",
      "9th\n"
     ]
    }
   ],
   "source": [
    "del list\n",
    "numbers = list(range(1,10))\n",
    "for a in numbers:\n",
    "    if a == 1:\n",
    "        print(f\"{a}st\")\n",
    "    elif a == 2:\n",
    "        print(f\"{a}nd\")\n",
    "    elif a == 3:\n",
    "        print(f\"{a}rd\")\n",
    "    else:\n",
    "        print(f\"{a}th\")"
   ]
  },
  {
   "cell_type": "markdown",
   "metadata": {},
   "source": [
    "# Summary"
   ]
  },
  {
   "cell_type": "markdown",
   "metadata": {},
   "source": [
    "Conditional Tests\n",
    "- Equality\n",
    "- Inequality\n",
    "- Comparision\n",
    "\n",
    "If Statements\n",
    "\n",
    "- Multiple Conditions\n",
    "- Whether a vlue in a list\n",
    "- Whether a vlue not in a list\n",
    "- If else\n",
    "- If-elif-else chain"
   ]
  }
 ],
 "metadata": {
  "kernelspec": {
   "display_name": "Python 3",
   "language": "python",
   "name": "python3"
  },
  "language_info": {
   "codemirror_mode": {
    "name": "ipython",
    "version": 3
   },
   "file_extension": ".py",
   "mimetype": "text/x-python",
   "name": "python",
   "nbconvert_exporter": "python",
   "pygments_lexer": "ipython3",
   "version": "3.13.0"
  }
 },
 "nbformat": 4,
 "nbformat_minor": 2
}
