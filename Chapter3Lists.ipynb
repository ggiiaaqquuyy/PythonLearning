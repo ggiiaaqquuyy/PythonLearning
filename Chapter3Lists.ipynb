{
 "cells": [
  {
   "cell_type": "markdown",
   "metadata": {},
   "source": [
    "# Lists \n",
    "List ([ ]) indicate a list, and individual elenment by commas"
   ]
  },
  {
   "cell_type": "code",
   "execution_count": 56,
   "metadata": {},
   "outputs": [
    {
     "name": "stdout",
     "output_type": "stream",
     "text": [
      "['trek', 'cannondale', 'redline', 'specialized']\n"
     ]
    }
   ],
   "source": [
    "bicycles = ['trek', 'cannondale', 'redline', 'specialized']\n",
    "print(bicycles)"
   ]
  },
  {
   "cell_type": "markdown",
   "metadata": {},
   "source": [
    "## Element in a list by [#]"
   ]
  },
  {
   "cell_type": "markdown",
   "metadata": {},
   "source": [
    "Note that python start with 0"
   ]
  },
  {
   "cell_type": "code",
   "execution_count": 57,
   "metadata": {},
   "outputs": [
    {
     "name": "stdout",
     "output_type": "stream",
     "text": [
      "trek\n",
      "Redline\n"
     ]
    }
   ],
   "source": [
    "print(bicycles[0])\n",
    "print(bicycles[2].title())"
   ]
  },
  {
   "cell_type": "markdown",
   "metadata": {},
   "source": [
    "Position -1 is the last\n",
    "Position -2 is the second last \n",
    "Position -3 is the third last"
   ]
  },
  {
   "cell_type": "code",
   "execution_count": 58,
   "metadata": {},
   "outputs": [
    {
     "name": "stdout",
     "output_type": "stream",
     "text": [
      "specialized\n",
      "redline\n",
      "cannondale\n"
     ]
    }
   ],
   "source": [
    "print(bicycles[-1]) \n",
    "print(bicycles[-2]) \n",
    "print(bicycles[-3]) "
   ]
  },
  {
   "cell_type": "markdown",
   "metadata": {},
   "source": [
    "## \"f\" cho phép được nhúng trực tiếp giá trị bên trong chuỗi bên trong biến dấu {}\n",
    " \"f\" giúp viết code trong đẹp hơn"
   ]
  },
  {
   "cell_type": "code",
   "execution_count": 59,
   "metadata": {},
   "outputs": [
    {
     "name": "stdout",
     "output_type": "stream",
     "text": [
      "My first bicycle was a Cannondale.\n"
     ]
    }
   ],
   "source": [
    "message1 = f\"My first bicycle was a {bicycles[1].title()}.\" \n",
    "print(message1)"
   ]
  },
  {
   "cell_type": "markdown",
   "metadata": {},
   "source": [
    "**Traditional Way**"
   ]
  },
  {
   "cell_type": "code",
   "execution_count": 60,
   "metadata": {},
   "outputs": [
    {
     "name": "stdout",
     "output_type": "stream",
     "text": [
      "My firsr bicycle was a Cannondale.\n"
     ]
    }
   ],
   "source": [
    "message2 = \"My firsr bicycle was a \" + bicycles[1].title() + \".\"\n",
    "print(message2)"
   ]
  },
  {
   "cell_type": "markdown",
   "metadata": {},
   "source": [
    "# Exercise\n",
    "***3.1 Names***"
   ]
  },
  {
   "cell_type": "code",
   "execution_count": 61,
   "metadata": {},
   "outputs": [
    {
     "name": "stdout",
     "output_type": "stream",
     "text": [
      "Quý\n",
      "Thư\n",
      "Võ\n",
      "Anh\n"
     ]
    }
   ],
   "source": [
    "names = [\"Quý\", \"Thư\", \"Võ\", \"Anh\"]\n",
    "len(names) #Hàm để đếm số lượng\n",
    "for i in range(len(names)):\n",
    " print(names[i].title())"
   ]
  },
  {
   "cell_type": "markdown",
   "metadata": {},
   "source": [
    "***3.2 Greetings***"
   ]
  },
  {
   "cell_type": "code",
   "execution_count": 62,
   "metadata": {},
   "outputs": [
    {
     "name": "stdout",
     "output_type": "stream",
     "text": [
      "Nice to meet you Quý\n",
      "Nice to meet you Thư\n",
      "Nice to meet you Thảo\n",
      "Nice to meet you Linh\n",
      "Nice to meet you Anh\n"
     ]
    }
   ],
   "source": [
    "names = [\"Quý\", \"Thư\", \"Thảo\", \"Linh\", \"Anh\"]\n",
    "for i in range(len(names)):\n",
    " print(f\"Nice to meet you {names[i].title()}\")"
   ]
  },
  {
   "cell_type": "markdown",
   "metadata": {},
   "source": [
    "***3.3 Your own list***"
   ]
  },
  {
   "cell_type": "code",
   "execution_count": 63,
   "metadata": {},
   "outputs": [
    {
     "name": "stdout",
     "output_type": "stream",
     "text": [
      "I would like to own the Plane before 30 years old\n"
     ]
    }
   ],
   "source": [
    "transport = [\"car\", \"plane\", \"motorcycle\"]\n",
    "print(f\"I would like to own the {transport[1].title()} before 30 years old\")"
   ]
  },
  {
   "cell_type": "markdown",
   "metadata": {},
   "source": [
    "# Modifying, adding and removing elements\n",
    "## Modifying the element in the list \n",
    "To change an element, you the name of the list with the index [ ], and new element.\n"
   ]
  },
  {
   "cell_type": "code",
   "execution_count": 64,
   "metadata": {},
   "outputs": [
    {
     "name": "stdout",
     "output_type": "stream",
     "text": [
      "['honda', 'yamaha', 'suzuki']\n",
      "ducati\n",
      "['ducati', 'yamaha', 'suzuki']\n"
     ]
    }
   ],
   "source": [
    "motorcycle = [\"honda\", \"yamaha\", \"suzuki\"]\n",
    "print(motorcycle)\n",
    "\n",
    "motorcycle[0] = 'ducati'\n",
    "print(motorcycle[0])\n",
    "print(motorcycle)"
   ]
  },
  {
   "cell_type": "markdown",
   "metadata": {},
   "source": [
    "## Adding Element to a list\n",
    "Using `append`. When you appen an item to a list, new element is added to the end of the list. \n",
    "\n",
    " >`varibles.append('value')`"
   ]
  },
  {
   "cell_type": "code",
   "execution_count": 65,
   "metadata": {},
   "outputs": [
    {
     "name": "stdout",
     "output_type": "stream",
     "text": [
      "['honda', 'yamaha', 'suzuki']\n",
      "['honda', 'yamaha', 'suzuki', 'ducati']\n"
     ]
    }
   ],
   "source": [
    "motorcycle = [\"honda\", \"yamaha\", \"suzuki\"]\n",
    "print(motorcycle)\n",
    "\n",
    "motorcycle.append('ducati')\n",
    "print(motorcycle)"
   ]
  },
  {
   "cell_type": "markdown",
   "metadata": {},
   "source": [
    "Append make easier to build a list. For example, we can start with the empty list and added the item by `append()` calls\n"
   ]
  },
  {
   "cell_type": "code",
   "execution_count": 66,
   "metadata": {},
   "outputs": [
    {
     "name": "stdout",
     "output_type": "stream",
     "text": [
      "[]\n",
      "['honda', 'yamaha', 'suzuki']\n"
     ]
    }
   ],
   "source": [
    "motorcycle = []\n",
    "print(motorcycle)\n",
    "\n",
    "motorcycle.append('honda')\n",
    "motorcycle.append('yamaha')\n",
    "motorcycle.append('suzuki')\n",
    "print(motorcycle)"
   ]
  },
  {
   "cell_type": "markdown",
   "metadata": {},
   "source": [
    "Bulding this way is more common. because we don't know the data user want to store after the programming run. Then *append* is used to store the data's user."
   ]
  },
  {
   "cell_type": "markdown",
   "metadata": {},
   "source": [
    "## Inserting Element into the Lists\n",
    "Using the `insert()`\n",
    "\n",
    ">`insert(position, 'value')`"
   ]
  },
  {
   "cell_type": "code",
   "execution_count": 67,
   "metadata": {},
   "outputs": [
    {
     "name": "stdout",
     "output_type": "stream",
     "text": [
      "['honda', 'yamaha', 'suzuki']\n",
      "['ducati', 'honda', 'yamaha', 'suzuki']\n"
     ]
    }
   ],
   "source": [
    "motorcycle = [\"honda\", \"yamaha\", \"suzuki\"]\n",
    "print(motorcycle)\n",
    "\n",
    "motorcycle.insert(0, 'ducati')\n",
    "print(motorcycle)"
   ]
  },
  {
   "cell_type": "markdown",
   "metadata": {},
   "source": [
    "## Removing the element in the list\n",
    " Using the  `del`\n",
    "\n",
    ">`del variable[position]`"
   ]
  },
  {
   "cell_type": "code",
   "execution_count": 68,
   "metadata": {},
   "outputs": [
    {
     "name": "stdout",
     "output_type": "stream",
     "text": [
      "['honda', 'yamaha', 'suzuki']\n",
      "['yamaha', 'suzuki']\n"
     ]
    }
   ],
   "source": [
    "motorcycle = [\"honda\", \"yamaha\", \"suzuki\"]\n",
    "print(motorcycle)\n",
    "\n",
    "del motorcycle[0]\n",
    "print(motorcycle)"
   ]
  },
  {
   "cell_type": "markdown",
   "metadata": {},
   "source": [
    "## Removing an item using the `pop()` method\n",
    "\n",
    "Sometimes, you want to use the item after removing it.  \n",
    "For example, you may want to remove a user from the **active list** and add them to the **inactive list**.\n",
    "\n",
    "The `pop()` method removes the **last** item in the list and lets you work with that item.\n",
    "\n",
    "> `variable.pop()`\n",
    "\n"
   ]
  },
  {
   "cell_type": "code",
   "execution_count": 69,
   "metadata": {},
   "outputs": [
    {
     "name": "stdout",
     "output_type": "stream",
     "text": [
      "['honda', 'yamaha', 'suzuki']\n",
      "['honda', 'yamaha']\n",
      "suzuki\n"
     ]
    }
   ],
   "source": [
    "motorcycle = [\"honda\", \"yamaha\", \"suzuki\"]\n",
    "print(motorcycle)\n",
    "\n",
    "popped_motorcycle = motorcycle.pop()\n",
    "print(motorcycle)\n",
    "print(popped_motorcycle)"
   ]
  },
  {
   "cell_type": "markdown",
   "metadata": {},
   "source": [
    "How might the `pop()` method is useful."
   ]
  },
  {
   "cell_type": "code",
   "execution_count": 70,
   "metadata": {},
   "outputs": [
    {
     "name": "stdout",
     "output_type": "stream",
     "text": [
      "The last motorcycle I owned was a Suzuki.\n"
     ]
    }
   ],
   "source": [
    "motorcycle = [\"honda\", \"yamaha\", \"suzuki\"]\n",
    "last_owned = motorcycle.pop()\n",
    "print(f\"The last motorcycle I owned was a {last_owned.title()}.\")"
   ]
  },
  {
   "cell_type": "markdown",
   "metadata": {},
   "source": [
    "## Popping items from Any Position in a list\n",
    ">`variable.pop(position)`"
   ]
  },
  {
   "cell_type": "code",
   "execution_count": 71,
   "metadata": {},
   "outputs": [
    {
     "name": "stdout",
     "output_type": "stream",
     "text": [
      "The first motorcycle I owned was a Honda.\n"
     ]
    }
   ],
   "source": [
    "motorcycle = [\"honda\", \"yamaha\", \"suzuki\"]\n",
    "first_owned = motorcycle.pop(0)\n",
    "print(f\"The first motorcycle I owned was a {first_owned.title()}.\")"
   ]
  },
  {
   "cell_type": "markdown",
   "metadata": {},
   "source": [
    "> <span style=\"color:red; font-weight:bold;\">⚠ Note:</span> Each time you use <code>pop()</code>, the item <strong>will no longer be stored in the list</strong>.\n"
   ]
  },
  {
   "cell_type": "markdown",
   "metadata": {},
   "source": [
    "## Removing the Item by Value\n",
    "Sometimes we don't know the position of the value want to remove from the list.\n",
    "We just know the value of that item.\n",
    "\n",
    "Using the `remove()`\n",
    "\n",
    "> `variable.remove('value')`"
   ]
  },
  {
   "cell_type": "code",
   "execution_count": 72,
   "metadata": {},
   "outputs": [
    {
     "name": "stdout",
     "output_type": "stream",
     "text": [
      "['honda', 'yamaha', 'suzuki']\n",
      "['yamaha', 'suzuki']\n"
     ]
    }
   ],
   "source": [
    "motorcycle = [\"honda\", \"yamaha\", \"suzuki\"]\n",
    "print(motorcycle)\n",
    "\n",
    "motorcycle.remove('honda')\n",
    "print(motorcycle)\n"
   ]
  },
  {
   "cell_type": "markdown",
   "metadata": {},
   "source": [
    "We can also use `remove()` to work with the value that's being removed from the list. For example:"
   ]
  },
  {
   "cell_type": "code",
   "execution_count": 73,
   "metadata": {},
   "outputs": [
    {
     "name": "stdout",
     "output_type": "stream",
     "text": [
      "['honda', 'yamaha', 'suzuki', 'ducati']\n",
      "['honda', 'yamaha', 'suzuki']\n",
      "\n",
      "A Ducati is too expensive for me.\n"
     ]
    }
   ],
   "source": [
    "motorcycle = [\"honda\", \"yamaha\", \"suzuki\", \"ducati\"]\n",
    "print(motorcycle)\n",
    "too_expensive = \"ducati\"\n",
    "motorcycle.remove(too_expensive)\n",
    "print(motorcycle)\n",
    "print(f\"\\nA {too_expensive.title()} is too expensive for me.\")"
   ]
  },
  {
   "cell_type": "markdown",
   "metadata": {},
   "source": [
    "# Exercise\n",
    "***3.4 Guest List***"
   ]
  },
  {
   "cell_type": "code",
   "execution_count": 74,
   "metadata": {},
   "outputs": [
    {
     "name": "stdout",
     "output_type": "stream",
     "text": [
      "Hi Quy, I would like to invite you to my dinner tonight.\n",
      "Hi Thu, I would like to invite you to my dinner tonight.\n",
      "Hi Vo, I would like to invite you to my dinner tonight.\n"
     ]
    }
   ],
   "source": [
    "dinner = [\"Quy\", \"Thu\", \"Vo\"]\n",
    "print( f\"Hi {dinner[0].title()}, I would like to invite you to my dinner tonight.\")\n",
    "print( f\"Hi {dinner[1].title()}, I would like to invite you to my dinner tonight.\")\n",
    "print( f\"Hi {dinner[2].title()}, I would like to invite you to my dinner tonight.\")"
   ]
  },
  {
   "cell_type": "markdown",
   "metadata": {},
   "source": [
    "***3.5 Changing Guest List***"
   ]
  },
  {
   "cell_type": "code",
   "execution_count": 75,
   "metadata": {},
   "outputs": [
    {
     "name": "stdout",
     "output_type": "stream",
     "text": [
      "Vo\n",
      "Hi Quy, I would like to invite you to my dinner tonight.\n",
      "Hi Thu, I would like to invite you to my dinner tonight.\n",
      "Hi Anh, I would like to invite you to my dinner tonight.\n"
     ]
    }
   ],
   "source": [
    "dinner = [\"Quy\", \"Thu\", \"Vo\"]\n",
    "print(\"Vo\")\n",
    "dinner.remove(\"Vo\")\n",
    "dinner.append(\"Anh\")\n",
    "print( f\"Hi {dinner[0].title()}, I would like to invite you to my dinner tonight.\")\n",
    "print( f\"Hi {dinner[1].title()}, I would like to invite you to my dinner tonight.\")\n",
    "print( f\"Hi {dinner[2].title()}, I would like to invite you to my dinner tonight.\")"
   ]
  },
  {
   "cell_type": "markdown",
   "metadata": {},
   "source": [
    "***Or***"
   ]
  },
  {
   "cell_type": "code",
   "execution_count": 76,
   "metadata": {},
   "outputs": [
    {
     "name": "stdout",
     "output_type": "stream",
     "text": [
      "Hi Quy, I would like to invite you to my dinner tonight.\n",
      "Hi Thu, I would like to invite you to my dinner tonight.\n",
      "Hi Anh, I would like to invite you to my dinner tonight.\n"
     ]
    }
   ],
   "source": [
    "dinner = [\"Quy\", \"Thu\", \"Vo\"]\n",
    "\n",
    "del(dinner[2])\n",
    "dinner.insert(2, \"Anh\")\n",
    "print( f\"Hi {dinner[0].title()}, I would like to invite you to my dinner tonight.\")\n",
    "print( f\"Hi {dinner[1].title()}, I would like to invite you to my dinner tonight.\")\n",
    "print( f\"Hi {dinner[2].title()}, I would like to invite you to my dinner tonight.\")"
   ]
  },
  {
   "cell_type": "markdown",
   "metadata": {},
   "source": [
    "***3.6 More Guest***"
   ]
  },
  {
   "cell_type": "code",
   "execution_count": 77,
   "metadata": {},
   "outputs": [
    {
     "name": "stdout",
     "output_type": "stream",
     "text": [
      "Hi Gia, I would like to invite you to my dinner tonight.\n",
      "Hi Quy, I would like to invite you to my dinner tonight.\n",
      "Hi Thu, I would like to invite you to my dinner tonight.\n",
      "Hi Thi, I would like to invite you to my dinner tonight.\n",
      "Hi Vo, I would like to invite you to my dinner tonight.\n",
      "Hi Tran, I would like to invite you to my dinner tonight.\n"
     ]
    }
   ],
   "source": [
    "dinner = [\"Quy\", \"Thu\", \"Vo\"]\n",
    "dinner.insert(0, \"Gia\")\n",
    "dinner.insert(3, \"Thi\")\n",
    "dinner.append(\"Tran\")\n",
    "print( f\"Hi {dinner[0].title()}, I would like to invite you to my dinner tonight.\")\n",
    "print( f\"Hi {dinner[1].title()}, I would like to invite you to my dinner tonight.\")\n",
    "print( f\"Hi {dinner[2].title()}, I would like to invite you to my dinner tonight.\")\n",
    "print( f\"Hi {dinner[3].title()}, I would like to invite you to my dinner tonight.\")\n",
    "print( f\"Hi {dinner[4].title()}, I would like to invite you to my dinner tonight.\")\n",
    "print( f\"Hi {dinner[5].title()}, I would like to invite you to my dinner tonight.\")\n"
   ]
  },
  {
   "cell_type": "markdown",
   "metadata": {},
   "source": [
    "***3.7 Shrinking Guest List***"
   ]
  },
  {
   "cell_type": "code",
   "execution_count": 78,
   "metadata": {},
   "outputs": [
    {
     "name": "stdout",
     "output_type": "stream",
     "text": [
      "I aplogize to say that the dinner can have only for 2 people\n",
      "I'm so sorry I can’t invite Tran to dinner.\n",
      "I'm so sorry I can’t invite Vo to dinner.\n",
      "I'm so sorry I can’t invite Thi to dinner.\n",
      "I'm so sorry I can’t invite Thu to dinner.\n",
      "Hi Gia, you are still invited to the dinner tonight.\n",
      "Hi Quy, you are still invited to the dinner tonight. \n",
      "\n",
      "[]\n"
     ]
    }
   ],
   "source": [
    "dinner = [\"Quy\", \"Thu\", \"Vo\"]\n",
    "dinner.insert(0, \"Gia\")\n",
    "dinner.insert(3, \"Thi\")\n",
    "dinner.append(\"Tran\")\n",
    "\n",
    "print(\"I aplogize to say that the dinner can have only for 2 people\")\n",
    "\n",
    "name = dinner.pop()\n",
    "print(f\"I'm so sorry I can’t invite {name.title()} to dinner.\")\n",
    "\n",
    "name = dinner.pop()\n",
    "print(f\"I'm so sorry I can’t invite {name.title()} to dinner.\")\n",
    "\n",
    "name = dinner.pop()\n",
    "print(f\"I'm so sorry I can’t invite {name.title()} to dinner.\")\n",
    "\n",
    "name = dinner.pop()\n",
    "print(f\"I'm so sorry I can’t invite {name.title()} to dinner.\")\n",
    "\n",
    "print( f\"Hi {dinner[0].title()}, you are still invited to the dinner tonight.\")\n",
    "print( f\"Hi {dinner[1].title()}, you are still invited to the dinner tonight. \\n\")\n",
    "\n",
    "del dinner[0]\n",
    "del dinner[0]\n",
    "print(dinner)\n",
    "\n",
    "\n"
   ]
  },
  {
   "cell_type": "markdown",
   "metadata": {},
   "source": [
    "# Organizing a List\n",
    "\n",
    "## Sorting a List permantly with `sort()` method\n",
    "\n",
    ">`variable.sort()`\n",
    "\n",
    "**Sorting by the alphabetical order**"
   ]
  },
  {
   "cell_type": "code",
   "execution_count": 79,
   "metadata": {},
   "outputs": [
    {
     "name": "stdout",
     "output_type": "stream",
     "text": [
      "['bmw', 'audi', 'toyota', 'subaru']\n",
      "['audi', 'bmw', 'subaru', 'toyota']\n"
     ]
    }
   ],
   "source": [
    "cars = [\"bmw\", \"audi\", \"toyota\", \"subaru\"]\n",
    "print(cars)\n",
    "cars.sort()\n",
    "print(cars)"
   ]
  },
  {
   "cell_type": "markdown",
   "metadata": {},
   "source": [
    "**We can also sort this list in reserve-alphabetical order.**"
   ]
  },
  {
   "cell_type": "code",
   "execution_count": 80,
   "metadata": {},
   "outputs": [
    {
     "name": "stdout",
     "output_type": "stream",
     "text": [
      "['audi', 'bmw', 'subaru', 'toyota']\n",
      "['toyota', 'subaru', 'bmw', 'audi']\n"
     ]
    }
   ],
   "source": [
    "cars = [\"bmw\", \"audi\", \"toyota\", \"subaru\"]\n",
    "cars.sort()\n",
    "print(cars)\n",
    "cars.sort(reverse=True)\n",
    "print(cars)"
   ]
  },
  {
   "cell_type": "markdown",
   "metadata": {},
   "source": [
    "**Sorting a List temporarily with the `sorted()` function**\n",
    "\n",
    "`sorted()` function let you sort the list but not affect the actual order."
   ]
  },
  {
   "cell_type": "code",
   "execution_count": 81,
   "metadata": {},
   "outputs": [
    {
     "name": "stdout",
     "output_type": "stream",
     "text": [
      "['bmw', 'audi', 'toyota', 'subaru']\n",
      "\n",
      "Here is the sorted list: \n",
      "['audi', 'bmw', 'subaru', 'toyota']\n",
      "\n",
      "Here is the orginal list again: \n",
      "['bmw', 'audi', 'toyota', 'subaru']\n"
     ]
    }
   ],
   "source": [
    "cars = [\"bmw\", \"audi\", \"toyota\", \"subaru\"]\n",
    "print(cars)\n",
    "\n",
    "print(\"\\nHere is the sorted list: \")\n",
    "print(sorted(cars))\n",
    "\n",
    "print(\"\\nHere is the orginal list again: \")\n",
    "print(cars) "
   ]
  },
  {
   "cell_type": "markdown",
   "metadata": {},
   "source": [
    "`sorted()` also accept the reverse.\n",
    ">`sorted(reverse=True)`"
   ]
  },
  {
   "cell_type": "code",
   "execution_count": 82,
   "metadata": {},
   "outputs": [
    {
     "name": "stdout",
     "output_type": "stream",
     "text": [
      "['audi', 'bmw', 'subaru', 'toyota']\n",
      "['toyota', 'subaru', 'bmw', 'audi']\n"
     ]
    }
   ],
   "source": [
    "cars = [\"bmw\", \"audi\", \"toyota\", \"subaru\"]\n",
    "print(sorted(cars))\n",
    "print(sorted(cars, reverse=True))"
   ]
  },
  {
   "cell_type": "markdown",
   "metadata": {},
   "source": [
    "> <span style=\"color:red; font-weight:bold;\">⚠ Note:</span> Sorting a list is a bit more complicated when all the values are not in lowercase.\n"
   ]
  },
  {
   "cell_type": "markdown",
   "metadata": {},
   "source": [
    "## Printing a list in Reserve Order\n",
    "\n",
    "> variable.`reserve()`"
   ]
  },
  {
   "cell_type": "code",
   "execution_count": 83,
   "metadata": {},
   "outputs": [
    {
     "name": "stdout",
     "output_type": "stream",
     "text": [
      "['bmw', 'audi', 'toyota', 'subaru']\n",
      "['subaru', 'toyota', 'audi', 'bmw']\n"
     ]
    }
   ],
   "source": [
    "cars = ['bmw', 'audi', 'toyota', 'subaru']\n",
    "print(cars)\n",
    "\n",
    "cars.reverse()\n",
    "print(cars)"
   ]
  },
  {
   "cell_type": "markdown",
   "metadata": {},
   "source": [
    " <span style=\"color:red; font-weight:bold;\">⚠ Note:</span> `reverse()` does not sort backward alphabetically; it just reverses the order of the list. <br>\n",
    " &nbsp;&nbsp;&nbsp;&nbsp;&nbsp;&nbsp;&nbsp;&nbsp;&nbsp;&nbsp;&nbsp;&nbsp;&nbsp;&nbsp;&nbsp;Applying `reverse()` a second time will restore the original order.\n"
   ]
  },
  {
   "cell_type": "markdown",
   "metadata": {},
   "source": [
    "## Finding the Len of the list\n",
    "\n",
    "> Using the `len()`"
   ]
  },
  {
   "cell_type": "code",
   "execution_count": 84,
   "metadata": {},
   "outputs": [
    {
     "data": {
      "text/plain": [
       "4"
      ]
     },
     "execution_count": 84,
     "metadata": {},
     "output_type": "execute_result"
    }
   ],
   "source": [
    "cars = ['bmw', 'audi', 'toyota', 'subaru']\n",
    "len(cars)"
   ]
  },
  {
   "cell_type": "markdown",
   "metadata": {},
   "source": [
    "# Exercise \n",
    " ***3.8 Seeing the world***"
   ]
  },
  {
   "cell_type": "code",
   "execution_count": 85,
   "metadata": {},
   "outputs": [
    {
     "name": "stdout",
     "output_type": "stream",
     "text": [
      "['Paris', 'London', 'New York', 'Shanghai', 'Maldives']\n",
      "['London', 'Maldives', 'New York', 'Paris', 'Shanghai']\n",
      "['Paris', 'London', 'New York', 'Shanghai', 'Maldives']\n",
      "['Shanghai', 'Paris', 'New York', 'Maldives', 'London']\n",
      "['Paris', 'London', 'New York', 'Shanghai', 'Maldives']\n",
      "['Maldives', 'Shanghai', 'New York', 'London', 'Paris']\n",
      "['Paris', 'London', 'New York', 'Shanghai', 'Maldives']\n",
      "['London', 'Maldives', 'New York', 'Paris', 'Shanghai']\n",
      "['Shanghai', 'Paris', 'New York', 'Maldives', 'London']\n"
     ]
    }
   ],
   "source": [
    "world = [\"Paris\", \"London\", \"New York\", \"Shanghai\", \"Maldives\"]\n",
    "print(world)\n",
    "print(sorted(world))\n",
    "print(world)\n",
    "\n",
    "print(sorted(world, reverse=True))\n",
    "print(world)\n",
    "\n",
    "world.reverse()\n",
    "print(world)\n",
    "\n",
    "world.reverse()\n",
    "print(world)\n",
    "\n",
    "world.sort()\n",
    "print(world)\n",
    "\n",
    "world.sort(reverse=True)\n",
    "print(world)"
   ]
  },
  {
   "cell_type": "markdown",
   "metadata": {},
   "source": [
    "***3.9 Dinner Guest***"
   ]
  },
  {
   "cell_type": "code",
   "execution_count": 86,
   "metadata": {},
   "outputs": [
    {
     "name": "stdout",
     "output_type": "stream",
     "text": [
      "I aplogize to say that the dinner can have only for 2 people\n",
      "Hi Gia, you are still invited to the dinner tonight.\n",
      "Hi Quy, you are still invited to the dinner tonight. \n",
      "\n",
      "Tonight, I have invited 2 people only to the dinner.\n"
     ]
    }
   ],
   "source": [
    "dinner = [\"Quy\", \"Thu\", \"Vo\"]\n",
    "dinner.insert(0, \"Gia\")\n",
    "dinner.insert(3, \"Thi\")\n",
    "dinner.append(\"Tran\")\n",
    "\n",
    "print(\"I aplogize to say that the dinner can have only for 2 people\")\n",
    "\n",
    "name = dinner.pop()\n",
    "name = dinner.pop()\n",
    "name = dinner.pop()\n",
    "name = dinner.pop()\n",
    "\n",
    "\n",
    "print( f\"Hi {dinner[0].title()}, you are still invited to the dinner tonight.\")\n",
    "print( f\"Hi {dinner[1].title()}, you are still invited to the dinner tonight. \\n\")\n",
    "\n",
    "print(f\"Tonight, I have invited {len(dinner)} people only to the dinner.\")\n"
   ]
  },
  {
   "cell_type": "markdown",
   "metadata": {},
   "source": [
    "***3.10 Every Function***"
   ]
  },
  {
   "cell_type": "code",
   "execution_count": 87,
   "metadata": {},
   "outputs": [
    {
     "name": "stdout",
     "output_type": "stream",
     "text": [
      "['Paris', 'New York', 'Tokyo', 'London', 'Sydney']\n",
      "['London', 'New York', 'Paris', 'Sydney', 'Tokyo']\n",
      "['Tokyo', 'Sydney', 'Paris', 'New York', 'London']\n",
      "['Paris', 'New York', 'Tokyo', 'Ha Noi', 'London', 'Sydney']\n",
      "['Paris', 'New York', 'Tokyo', 'Ha Noi', 'London', 'Sydney', 'Ho Chi Minh']\n",
      "['Paris', 'Tokyo', 'Ha Noi', 'London', 'Sydney', 'Ho Chi Minh']\n",
      "['Paris', 'Tokyo', 'Ha Noi', 'Sydney', 'Ho Chi Minh']\n",
      "['Paris', 'Tokyo', 'Ha Noi', 'Sydney']\n",
      "Ha Noi\n",
      "Sydney\n"
     ]
    },
    {
     "data": {
      "text/plain": [
       "4"
      ]
     },
     "execution_count": 87,
     "metadata": {},
     "output_type": "execute_result"
    }
   ],
   "source": [
    "places = [\"Paris\", \"New York\", \"Tokyo\", \"London\", \"Sydney\"]\n",
    "print(places)\n",
    "print(sorted(places))\n",
    "print(sorted(places, reverse=True))\n",
    "places.insert(3, 'Ha Noi')\n",
    "print(places)\n",
    "places.append(\"Ho Chi Minh\")\n",
    "print(places)\n",
    "del(places[1])\n",
    "print(places)\n",
    "places.remove('London')\n",
    "print(places)\n",
    "places.pop()\n",
    "print(places)\n",
    "print(places[2])\n",
    "print(places[-1])\n",
    "len(places)"
   ]
  },
  {
   "cell_type": "markdown",
   "metadata": {},
   "source": [
    "# Avoiding Index Errors when working with lists\n",
    "\n",
    "We have a list with three items, and you ask\n",
    "for the fourth item:"
   ]
  },
  {
   "cell_type": "code",
   "execution_count": 88,
   "metadata": {},
   "outputs": [
    {
     "name": "stdout",
     "output_type": "stream",
     "text": [
      "suzuki\n"
     ]
    }
   ],
   "source": [
    "motorcycles = ['honda', 'yamaha', 'suzuki']\n",
    "print(motorcycles[2])"
   ]
  },
  {
   "cell_type": "markdown",
   "metadata": {},
   "source": [
    "<span style=\"color:red; font-weight:bold;\">⚠ Note:</span> Python start with indexing at 0."
   ]
  },
  {
   "cell_type": "markdown",
   "metadata": {},
   "source": [
    "***3.11 Intentional Error***"
   ]
  },
  {
   "cell_type": "code",
   "execution_count": 89,
   "metadata": {},
   "outputs": [
    {
     "name": "stdout",
     "output_type": "stream",
     "text": [
      "[]\n"
     ]
    }
   ],
   "source": [
    "motorcycles = []\n",
    "print(motorcycles)"
   ]
  },
  {
   "cell_type": "markdown",
   "metadata": {},
   "source": [
    "# 📌 Summary of What We Learned\n",
    "\n",
    "##  Lists\n",
    "- Accessing elements in a list  \n",
    "- Defining a list  \n",
    "- Adding and removing elements  \n",
    "- Sorting a list (permanently & temporarily)  \n",
    "- Finding the length of a list (`len()`)  \n",
    "- Handling **IndexError**  \n"
   ]
  }
 ],
 "metadata": {
  "kernelspec": {
   "display_name": "Python 3",
   "language": "python",
   "name": "python3"
  },
  "language_info": {
   "codemirror_mode": {
    "name": "ipython",
    "version": 3
   },
   "file_extension": ".py",
   "mimetype": "text/x-python",
   "name": "python",
   "nbconvert_exporter": "python",
   "pygments_lexer": "ipython3",
   "version": "3.13.0"
  }
 },
 "nbformat": 4,
 "nbformat_minor": 2
}
